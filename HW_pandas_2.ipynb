{
 "cells": [
  {
   "cell_type": "code",
   "execution_count": 1,
   "metadata": {},
   "outputs": [],
   "source": [
    "import pandas as pd"
   ]
  },
  {
   "cell_type": "markdown",
   "metadata": {},
   "source": [
    "Задание 1\n",
    "Скачайте с сайта grouplens.org...movielens/ датасет любого размера. Определите, какому фильму было выставлено больше всего оценок 5.0."
   ]
  },
  {
   "cell_type": "code",
   "execution_count": 53,
   "metadata": {},
   "outputs": [],
   "source": [
    "movies = pd.read_csv(r\"C:\\Users\\Мария\\Desktop\\movies.csv\")\n",
    "data = pd.read_csv(r\"C:\\Users\\Мария\\Desktop\\ratings.csv\")"
   ]
  },
  {
   "cell_type": "code",
   "execution_count": 54,
   "metadata": {
    "scrolled": true
   },
   "outputs": [
    {
     "data": {
      "text/html": [
       "<div>\n",
       "<style scoped>\n",
       "    .dataframe tbody tr th:only-of-type {\n",
       "        vertical-align: middle;\n",
       "    }\n",
       "\n",
       "    .dataframe tbody tr th {\n",
       "        vertical-align: top;\n",
       "    }\n",
       "\n",
       "    .dataframe thead th {\n",
       "        text-align: right;\n",
       "    }\n",
       "</style>\n",
       "<table border=\"1\" class=\"dataframe\">\n",
       "  <thead>\n",
       "    <tr style=\"text-align: right;\">\n",
       "      <th></th>\n",
       "      <th>userId</th>\n",
       "      <th>movieId</th>\n",
       "      <th>rating</th>\n",
       "      <th>timestamp</th>\n",
       "    </tr>\n",
       "  </thead>\n",
       "  <tbody>\n",
       "    <tr>\n",
       "      <th>0</th>\n",
       "      <td>1</td>\n",
       "      <td>296</td>\n",
       "      <td>5.0</td>\n",
       "      <td>1147880044</td>\n",
       "    </tr>\n",
       "    <tr>\n",
       "      <th>2</th>\n",
       "      <td>1</td>\n",
       "      <td>307</td>\n",
       "      <td>5.0</td>\n",
       "      <td>1147868828</td>\n",
       "    </tr>\n",
       "    <tr>\n",
       "      <th>3</th>\n",
       "      <td>1</td>\n",
       "      <td>665</td>\n",
       "      <td>5.0</td>\n",
       "      <td>1147878820</td>\n",
       "    </tr>\n",
       "    <tr>\n",
       "      <th>8</th>\n",
       "      <td>1</td>\n",
       "      <td>1237</td>\n",
       "      <td>5.0</td>\n",
       "      <td>1147868839</td>\n",
       "    </tr>\n",
       "    <tr>\n",
       "      <th>18</th>\n",
       "      <td>1</td>\n",
       "      <td>2632</td>\n",
       "      <td>5.0</td>\n",
       "      <td>1147878248</td>\n",
       "    </tr>\n",
       "    <tr>\n",
       "      <th>...</th>\n",
       "      <td>...</td>\n",
       "      <td>...</td>\n",
       "      <td>...</td>\n",
       "      <td>...</td>\n",
       "    </tr>\n",
       "    <tr>\n",
       "      <th>25000065</th>\n",
       "      <td>162541</td>\n",
       "      <td>5952</td>\n",
       "      <td>5.0</td>\n",
       "      <td>1240952617</td>\n",
       "    </tr>\n",
       "    <tr>\n",
       "      <th>25000067</th>\n",
       "      <td>162541</td>\n",
       "      <td>6104</td>\n",
       "      <td>5.0</td>\n",
       "      <td>1240953565</td>\n",
       "    </tr>\n",
       "    <tr>\n",
       "      <th>25000078</th>\n",
       "      <td>162541</td>\n",
       "      <td>7153</td>\n",
       "      <td>5.0</td>\n",
       "      <td>1240952613</td>\n",
       "    </tr>\n",
       "    <tr>\n",
       "      <th>25000080</th>\n",
       "      <td>162541</td>\n",
       "      <td>7193</td>\n",
       "      <td>5.0</td>\n",
       "      <td>1240950032</td>\n",
       "    </tr>\n",
       "    <tr>\n",
       "      <th>25000094</th>\n",
       "      <td>162541</td>\n",
       "      <td>63876</td>\n",
       "      <td>5.0</td>\n",
       "      <td>1240952515</td>\n",
       "    </tr>\n",
       "  </tbody>\n",
       "</table>\n",
       "<p>3612474 rows × 4 columns</p>\n",
       "</div>"
      ],
      "text/plain": [
       "          userId  movieId  rating   timestamp\n",
       "0              1      296     5.0  1147880044\n",
       "2              1      307     5.0  1147868828\n",
       "3              1      665     5.0  1147878820\n",
       "8              1     1237     5.0  1147868839\n",
       "18             1     2632     5.0  1147878248\n",
       "...          ...      ...     ...         ...\n",
       "25000065  162541     5952     5.0  1240952617\n",
       "25000067  162541     6104     5.0  1240953565\n",
       "25000078  162541     7153     5.0  1240952613\n",
       "25000080  162541     7193     5.0  1240950032\n",
       "25000094  162541    63876     5.0  1240952515\n",
       "\n",
       "[3612474 rows x 4 columns]"
      ]
     },
     "execution_count": 54,
     "metadata": {},
     "output_type": "execute_result"
    }
   ],
   "source": [
    "hight_ratings = data[ (data['rating'] == 5.0) ]\n",
    "hight_ratings"
   ]
  },
  {
   "cell_type": "code",
   "execution_count": 55,
   "metadata": {},
   "outputs": [
    {
     "data": {
      "text/html": [
       "<div>\n",
       "<style scoped>\n",
       "    .dataframe tbody tr th:only-of-type {\n",
       "        vertical-align: middle;\n",
       "    }\n",
       "\n",
       "    .dataframe tbody tr th {\n",
       "        vertical-align: top;\n",
       "    }\n",
       "\n",
       "    .dataframe thead th {\n",
       "        text-align: right;\n",
       "    }\n",
       "</style>\n",
       "<table border=\"1\" class=\"dataframe\">\n",
       "  <thead>\n",
       "    <tr style=\"text-align: right;\">\n",
       "      <th></th>\n",
       "      <th>movieId</th>\n",
       "      <th>rating</th>\n",
       "      <th>title</th>\n",
       "    </tr>\n",
       "  </thead>\n",
       "  <tbody>\n",
       "    <tr>\n",
       "      <th>0</th>\n",
       "      <td>296</td>\n",
       "      <td>5.0</td>\n",
       "      <td>Pulp Fiction (1994)</td>\n",
       "    </tr>\n",
       "  </tbody>\n",
       "</table>\n",
       "</div>"
      ],
      "text/plain": [
       "   movieId  rating                title\n",
       "0      296     5.0  Pulp Fiction (1994)"
      ]
     },
     "execution_count": 55,
     "metadata": {},
     "output_type": "execute_result"
    }
   ],
   "source": [
    "hight_ratings.groupby('movieId').count().sort_values('rating', ascending = False, inplace=True)\n",
    "joined = hight_ratings.merge(movies, on='movieId', how='left')\n",
    "joined.filter(items = ['movieId', 'rating', 'title']).head(1)"
   ]
  },
  {
   "cell_type": "markdown",
   "metadata": {},
   "source": [
    "Задание 2\n",
    "По данным файла power.csv посчитайте суммарное потребление стран Прибалтики (Латвия, Литва и Эстония) категорий 4, 12 и 21 за период с 2005 по 2010 года. Не учитывайте в расчетах отрицательные значения quantity."
   ]
  },
  {
   "cell_type": "code",
   "execution_count": 120,
   "metadata": {},
   "outputs": [
    {
     "data": {
      "text/html": [
       "<div>\n",
       "<style scoped>\n",
       "    .dataframe tbody tr th:only-of-type {\n",
       "        vertical-align: middle;\n",
       "    }\n",
       "\n",
       "    .dataframe tbody tr th {\n",
       "        vertical-align: top;\n",
       "    }\n",
       "\n",
       "    .dataframe thead th {\n",
       "        text-align: right;\n",
       "    }\n",
       "</style>\n",
       "<table border=\"1\" class=\"dataframe\">\n",
       "  <thead>\n",
       "    <tr style=\"text-align: right;\">\n",
       "      <th></th>\n",
       "      <th>country</th>\n",
       "      <th>year</th>\n",
       "      <th>quantity</th>\n",
       "      <th>category</th>\n",
       "    </tr>\n",
       "  </thead>\n",
       "  <tbody>\n",
       "    <tr>\n",
       "      <th>10617</th>\n",
       "      <td>Estonia</td>\n",
       "      <td>2008</td>\n",
       "      <td>1.0</td>\n",
       "      <td>4</td>\n",
       "    </tr>\n",
       "    <tr>\n",
       "      <th>11156</th>\n",
       "      <td>Lithuania</td>\n",
       "      <td>2008</td>\n",
       "      <td>1.0</td>\n",
       "      <td>4</td>\n",
       "    </tr>\n",
       "    <tr>\n",
       "      <th>11158</th>\n",
       "      <td>Lithuania</td>\n",
       "      <td>2006</td>\n",
       "      <td>1.0</td>\n",
       "      <td>4</td>\n",
       "    </tr>\n",
       "    <tr>\n",
       "      <th>12755</th>\n",
       "      <td>Estonia</td>\n",
       "      <td>2008</td>\n",
       "      <td>1.0</td>\n",
       "      <td>4</td>\n",
       "    </tr>\n",
       "    <tr>\n",
       "      <th>13294</th>\n",
       "      <td>Lithuania</td>\n",
       "      <td>2008</td>\n",
       "      <td>1.0</td>\n",
       "      <td>4</td>\n",
       "    </tr>\n",
       "  </tbody>\n",
       "</table>\n",
       "</div>"
      ],
      "text/plain": [
       "         country  year  quantity  category\n",
       "10617    Estonia  2008       1.0         4\n",
       "11156  Lithuania  2008       1.0         4\n",
       "11158  Lithuania  2006       1.0         4\n",
       "12755    Estonia  2008       1.0         4\n",
       "13294  Lithuania  2008       1.0         4"
      ]
     },
     "execution_count": 120,
     "metadata": {},
     "output_type": "execute_result"
    }
   ],
   "source": [
    "data = pd.read_csv(r\"C:\\Users\\Мария\\Desktop\\power.csv\")\n",
    "df = data[(data['country'] == 'Lithuania') | (data['country'] == 'Latvia') | (data['country'] == 'Estonia')]\n",
    "bal = df[(df.year > 2005) & (df.year <= 2010) & (df['quantity'] > 0) & ((df.category == 12) | (df.category == 21) | (df.category == 4))]\n",
    "bal.head()"
   ]
  },
  {
   "cell_type": "code",
   "execution_count": 121,
   "metadata": {},
   "outputs": [
    {
     "name": "stdout",
     "output_type": "stream",
     "text": [
      "203416.0\n"
     ]
    }
   ],
   "source": [
    "print(bal['quantity'].sum())"
   ]
  },
  {
   "cell_type": "markdown",
   "metadata": {},
   "source": [
    "Задание 3\n",
    "Выберите страницу любого сайта с табличными данными. Импортируйте таблицы в pandas dataframe.\n",
    "Примеры страниц (необязательно брать именно эти):\n",
    "https://fortrader.org/quotes"
   ]
  },
  {
   "cell_type": "code",
   "execution_count": null,
   "metadata": {},
   "outputs": [],
   "source": []
  },
  {
   "cell_type": "code",
   "execution_count": 135,
   "metadata": {},
   "outputs": [],
   "source": [
    "page_url = 'https://en.wikipedia.org/wiki/List_of_highest_scores_in_figure_skating'\n",
    "\n",
    "#таблица рекородов фигурного катания\n",
    "df = pd.read_html(page_url, attrs = {'class': 'wikitable'}, encoding='utf-8')\n",
    "df[:5]"
   ]
  },
  {
   "cell_type": "code",
   "execution_count": 141,
   "metadata": {},
   "outputs": [
    {
     "data": {
      "text/plain": [
       "[    Unnamed: 0              Рубль  Предложение  Спрос  Предыдущее закрытие  \\\n",
       " 0          NaN            GBP/RUB      1353320      -              1267431   \n",
       " 1          NaN            EUR/RUB      1447915      -              1448360   \n",
       " 2          NaN            USD/RUB      1027500      -               965000   \n",
       " 3          NaN            JPY/RUB        08679      -                08117   \n",
       " 4          NaN            CNY/RUB       161888      -               151914   \n",
       " 5          NaN            CHF/RUB      1100343      -              1024960   \n",
       " 6          NaN               Евро  Предложение  Спрос  Предыдущее закрытие   \n",
       " 7          NaN            EUR/USD        11136      -                11018   \n",
       " 8          NaN            EUR/GBP        08455      -                08390   \n",
       " 9          NaN            EUR/JPY      1318490      -              1309640   \n",
       " 10         NaN            EUR/CHF        10401      -                10372   \n",
       " 11         NaN         Доллар США  Предложение  Спрос  Предыдущее закрытие   \n",
       " 12         NaN            USD/EUR        08980      -                09077   \n",
       " 13         NaN            USD/GBP        07592      -                07614   \n",
       " 14         NaN            USD/JPY      1183935      -              1188845   \n",
       " 15         NaN            USD/CHF        09340      -                09414   \n",
       " 16         NaN      Японская иена  Предложение  Спрос  Предыдущее закрытие   \n",
       " 17         NaN    JPY/EUR (100:1)        07600      -                07600   \n",
       " 18         NaN            JPY/GBP        00064      -                00064   \n",
       " 19         NaN            JPY/USD        00085      -                00084   \n",
       " 20         NaN    JPY/CHF (100:1)        07900      -                07900   \n",
       " 21         NaN    Фунт стерлингов  Предложение  Спрос  Предыдущее закрытие   \n",
       " 22         NaN            GBP/USD        13169      -                13134   \n",
       " 23         NaN            GBP/JPY      1559354      -              1561488   \n",
       " 24         NaN            GBP/EUR        11828      -                11921   \n",
       " 25         NaN            GBP/CHF        12300      -                12364   \n",
       " 26         NaN  Швейцарский франк  Предложение  Спрос  Предыдущее закрытие   \n",
       " 27         NaN            GBP/CHF        12300      -                12364   \n",
       " 28         NaN            EUR/CHF        10401      -                10372   \n",
       " 29         NaN    JPY/CHF (100:1)        07900      -                07900   \n",
       " 30         NaN            USD/CHF        09340      -                09414   \n",
       " 31         NaN  Украинская гривна  Предложение  Спрос  Предыдущее закрытие   \n",
       " 32         NaN            EUR/UAH       329737      -               324573   \n",
       " 33         NaN            USD/UAH       296087      -               294625   \n",
       " 34         NaN            CHF/UAH       317010      -               312931   \n",
       " 35         NaN            GBP/UAH       389976      -               386960   \n",
       " \n",
       "          %  Абсолютное значение     Время  \n",
       " 0    6,78%                85889  20:08:00  \n",
       " 1   -0,03%               -00445  15:41:00  \n",
       " 2    6,48%                62500  20:07:00  \n",
       " 3    6,93%                00562  20:08:00  \n",
       " 4    6,57%                09974  20:08:00  \n",
       " 5    7,35%                75383  20:08:00  \n",
       " 6        %  Абсолютное значение     Время  \n",
       " 7    1,07%                00118  20:08:00  \n",
       " 8    0,78%                00066  20:08:00  \n",
       " 9    0,68%                08850  20:08:00  \n",
       " 10   0,27%                00029  20:08:00  \n",
       " 11       %  Абсолютное значение     Время  \n",
       " 12  -1,07%               -00097  20:08:00  \n",
       " 13  -0,28%               -00021  20:08:00  \n",
       " 14  -0,41%               -04910  20:08:00  \n",
       " 15  -0,79%               -00074  20:08:00  \n",
       " 16       %  Абсолютное значение     Время  \n",
       " 17  -0,66%               -00001  20:08:00  \n",
       " 18   0,16%                00000  20:08:00  \n",
       " 19   0,42%                00000  20:08:00  \n",
       " 20  -0,38%                00000  20:08:00  \n",
       " 21       %  Абсолютное значение     Время  \n",
       " 22   0,27%                00035  20:08:00  \n",
       " 23  -0,14%               -02134  20:08:00  \n",
       " 24  -0,78%               -00094  20:08:00  \n",
       " 25  -0,52%               -00064  20:08:00  \n",
       " 26       %  Абсолютное значение     Время  \n",
       " 27  -0,52%               -00064  20:08:00  \n",
       " 28   0,27%                00029  20:08:00  \n",
       " 29  -0,38%                00000  20:08:00  \n",
       " 30  -0,79%               -00074  20:08:00  \n",
       " 31       %  Абсолютное значение     Время  \n",
       " 32   1,59%                05164  20:08:00  \n",
       " 33   0,50%                01463  20:07:00  \n",
       " 34   1,30%                04078  20:08:00  \n",
       " 35   0,78%                03016  20:08:00  ]"
      ]
     },
     "execution_count": 141,
     "metadata": {},
     "output_type": "execute_result"
    }
   ],
   "source": [
    "url = 'https://www.finanz.ru/valyuty/v-realnom-vremeni'\n",
    "df2 = pd.read_html(url, attrs = {'class': 'quote_list'}, encoding='utf-8')\n",
    "df2[:5]"
   ]
  }
 ],
 "metadata": {
  "kernelspec": {
   "display_name": "Python 3",
   "language": "python",
   "name": "python3"
  },
  "language_info": {
   "codemirror_mode": {
    "name": "ipython",
    "version": 3
   },
   "file_extension": ".py",
   "mimetype": "text/x-python",
   "name": "python",
   "nbconvert_exporter": "python",
   "pygments_lexer": "ipython3",
   "version": "3.8.3"
  }
 },
 "nbformat": 4,
 "nbformat_minor": 4
}
