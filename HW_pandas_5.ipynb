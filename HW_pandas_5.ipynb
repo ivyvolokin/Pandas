{
 "cells": [
  {
   "cell_type": "code",
   "execution_count": 1,
   "metadata": {},
   "outputs": [],
   "source": [
    "import requests\n",
    "from time import sleep\n",
    "import pandas as pd\n",
    "from bs4 import BeautifulSoup"
   ]
  },
  {
   "cell_type": "code",
   "execution_count": null,
   "metadata": {},
   "outputs": [],
   "source": []
  },
  {
   "cell_type": "code",
   "execution_count": null,
   "metadata": {},
   "outputs": [],
   "source": []
  },
  {
   "cell_type": "code",
   "execution_count": 124,
   "metadata": {},
   "outputs": [
    {
     "name": "stdout",
     "output_type": "stream",
     "text": [
      "1\n",
      "https://habr.com/ru/all/page1/\n",
      "2\n",
      "https://habr.com/ru/all/page2/\n",
      "Создание игр для NES на ассемблере 6502: спрайтовая графика\n"
     ]
    }
   ],
   "source": [
    "keywords = ['алхимия', 'устройств']  #--- менял ключевые слова, чтобы работать с существующими статьями\n",
    "\n",
    "p = 2   #---- любое р будет перебираться в url\n",
    "data = []\n",
    "for p in range(1, p + 1):\n",
    "    print(p)     #----для себя\n",
    "    url_ = f\"https://habr.com/ru/all/page{p}/\"\n",
    "    print(url_)  #----для себя\n",
    "    r_ = requests.get(url_)\n",
    "    sleep(3)\n",
    "    soup = BeautifulSoup(r_.text, 'lxml')\n",
    "    posts = soup.findAll('article', class_='tm-articles-list__item')\n",
    "\n",
    "    for post in posts:\n",
    "        try:\n",
    "            title = post.find('h2', class_='tm-article-snippet__title tm-article-snippet__title_h2').text\n",
    "            if any(word in title.lower().split() for word in keywords):\n",
    "            \n",
    "                link = 'https://habr.com' + post.find('a', class_ = 'tm-article-snippet__title-link' ).get('href')\n",
    "        \n",
    "                time_ = post.find('span', class_ = 'tm-article-snippet__datetime-published').time.get('datetime')\n",
    "            \n",
    "                data.append([time_, title, link])\n",
    "        except:\n",
    "            print(title)   #----для себя\n",
    "            continue"
   ]
  },
  {
   "cell_type": "code",
   "execution_count": 125,
   "metadata": {},
   "outputs": [
    {
     "data": {
      "text/plain": [
       "[['2022-03-24T08:10:43.000Z',\n",
       "  'Путешествие по камням, или Как мы скрестили криптошлюзы S‑Terra с Ansible для автоматизации конфигурирования устройств',\n",
       "  'https://habr.com/ru/company/solarsecurity/blog/655753/'],\n",
       " ['2022-03-24T08:04:02.000Z',\n",
       "  'Тайм-менеджмент, или современная алхимия',\n",
       "  'https://habr.com/ru/post/657193/'],\n",
       " ['2022-03-24T07:00:02.000Z',\n",
       "  'Диагностика и мониторинг Wi-Fi устройств в Grafana',\n",
       "  'https://habr.com/ru/post/656509/']]"
      ]
     },
     "execution_count": 125,
     "metadata": {},
     "output_type": "execute_result"
    }
   ],
   "source": [
    "data"
   ]
  },
  {
   "cell_type": "code",
   "execution_count": 186,
   "metadata": {},
   "outputs": [
    {
     "data": {
      "text/html": [
       "<div>\n",
       "<style scoped>\n",
       "    .dataframe tbody tr th:only-of-type {\n",
       "        vertical-align: middle;\n",
       "    }\n",
       "\n",
       "    .dataframe tbody tr th {\n",
       "        vertical-align: top;\n",
       "    }\n",
       "\n",
       "    .dataframe thead th {\n",
       "        text-align: right;\n",
       "    }\n",
       "</style>\n",
       "<table border=\"1\" class=\"dataframe\">\n",
       "  <thead>\n",
       "    <tr style=\"text-align: right;\">\n",
       "      <th></th>\n",
       "      <th>time</th>\n",
       "      <th>title</th>\n",
       "      <th>link</th>\n",
       "    </tr>\n",
       "  </thead>\n",
       "  <tbody>\n",
       "    <tr>\n",
       "      <th>0</th>\n",
       "      <td>2022-03-24T08:10:43.000Z</td>\n",
       "      <td>Путешествие по камням, или Как мы скрестили кр...</td>\n",
       "      <td>https://habr.com/ru/company/solarsecurity/blog...</td>\n",
       "    </tr>\n",
       "    <tr>\n",
       "      <th>1</th>\n",
       "      <td>2022-03-24T08:04:02.000Z</td>\n",
       "      <td>Тайм-менеджмент, или современная алхимия</td>\n",
       "      <td>https://habr.com/ru/post/657193/</td>\n",
       "    </tr>\n",
       "    <tr>\n",
       "      <th>2</th>\n",
       "      <td>2022-03-24T07:00:02.000Z</td>\n",
       "      <td>Диагностика и мониторинг Wi-Fi устройств в Gra...</td>\n",
       "      <td>https://habr.com/ru/post/656509/</td>\n",
       "    </tr>\n",
       "  </tbody>\n",
       "</table>\n",
       "</div>"
      ],
      "text/plain": [
       "                       time  \\\n",
       "0  2022-03-24T08:10:43.000Z   \n",
       "1  2022-03-24T08:04:02.000Z   \n",
       "2  2022-03-24T07:00:02.000Z   \n",
       "\n",
       "                                               title  \\\n",
       "0  Путешествие по камням, или Как мы скрестили кр...   \n",
       "1           Тайм-менеджмент, или современная алхимия   \n",
       "2  Диагностика и мониторинг Wi-Fi устройств в Gra...   \n",
       "\n",
       "                                                link  \n",
       "0  https://habr.com/ru/company/solarsecurity/blog...  \n",
       "1                   https://habr.com/ru/post/657193/  \n",
       "2                   https://habr.com/ru/post/656509/  "
      ]
     },
     "execution_count": 186,
     "metadata": {},
     "output_type": "execute_result"
    }
   ],
   "source": [
    "header = ['time','title','link']\n",
    "df = pd.DataFrame(data, columns = header)\n",
    "df"
   ]
  },
  {
   "cell_type": "markdown",
   "metadata": {},
   "source": [
    "Доп задания"
   ]
  },
  {
   "cell_type": "code",
   "execution_count": 187,
   "metadata": {},
   "outputs": [],
   "source": [
    "def txt(link): #----функция для ввода текста\n",
    "    r = requests.get(str(link))\n",
    "    soup = BeautifulSoup(r.text, 'html.parser')\n",
    "    text_article = soup.find('p').text  #добавляю только первый абзац <p>, потому что нет смыслв добавлять весь текст статьи\n",
    "#BFS ругается\n",
    "    return str(text_article)\n",
    "   \n"
   ]
  },
  {
   "cell_type": "code",
   "execution_count": 188,
   "metadata": {},
   "outputs": [],
   "source": [
    "df['article'] = df['link'].apply(txt)"
   ]
  },
  {
   "cell_type": "code",
   "execution_count": 189,
   "metadata": {},
   "outputs": [
    {
     "data": {
      "text/html": [
       "<div>\n",
       "<style scoped>\n",
       "    .dataframe tbody tr th:only-of-type {\n",
       "        vertical-align: middle;\n",
       "    }\n",
       "\n",
       "    .dataframe tbody tr th {\n",
       "        vertical-align: top;\n",
       "    }\n",
       "\n",
       "    .dataframe thead th {\n",
       "        text-align: right;\n",
       "    }\n",
       "</style>\n",
       "<table border=\"1\" class=\"dataframe\">\n",
       "  <thead>\n",
       "    <tr style=\"text-align: right;\">\n",
       "      <th></th>\n",
       "      <th>time</th>\n",
       "      <th>title</th>\n",
       "      <th>link</th>\n",
       "      <th>article</th>\n",
       "    </tr>\n",
       "  </thead>\n",
       "  <tbody>\n",
       "    <tr>\n",
       "      <th>0</th>\n",
       "      <td>2022-03-24T08:10:43.000Z</td>\n",
       "      <td>Путешествие по камням, или Как мы скрестили кр...</td>\n",
       "      <td>https://habr.com/ru/company/solarsecurity/blog...</td>\n",
       "      <td>Однажды моей команде довелось организовывать н...</td>\n",
       "    </tr>\n",
       "    <tr>\n",
       "      <th>1</th>\n",
       "      <td>2022-03-24T08:04:02.000Z</td>\n",
       "      <td>Тайм-менеджмент, или современная алхимия</td>\n",
       "      <td>https://habr.com/ru/post/657193/</td>\n",
       "      <td>Средневековые энтузиасты  корпели над своими к...</td>\n",
       "    </tr>\n",
       "    <tr>\n",
       "      <th>2</th>\n",
       "      <td>2022-03-24T07:00:02.000Z</td>\n",
       "      <td>Диагностика и мониторинг Wi-Fi устройств в Gra...</td>\n",
       "      <td>https://habr.com/ru/post/656509/</td>\n",
       "      <td>Три года назад я рассказал, как сделал пристав...</td>\n",
       "    </tr>\n",
       "  </tbody>\n",
       "</table>\n",
       "</div>"
      ],
      "text/plain": [
       "                       time  \\\n",
       "0  2022-03-24T08:10:43.000Z   \n",
       "1  2022-03-24T08:04:02.000Z   \n",
       "2  2022-03-24T07:00:02.000Z   \n",
       "\n",
       "                                               title  \\\n",
       "0  Путешествие по камням, или Как мы скрестили кр...   \n",
       "1           Тайм-менеджмент, или современная алхимия   \n",
       "2  Диагностика и мониторинг Wi-Fi устройств в Gra...   \n",
       "\n",
       "                                                link  \\\n",
       "0  https://habr.com/ru/company/solarsecurity/blog...   \n",
       "1                   https://habr.com/ru/post/657193/   \n",
       "2                   https://habr.com/ru/post/656509/   \n",
       "\n",
       "                                             article  \n",
       "0  Однажды моей команде довелось организовывать н...  \n",
       "1  Средневековые энтузиасты  корпели над своими к...  \n",
       "2  Три года назад я рассказал, как сделал пристав...  "
      ]
     },
     "execution_count": 189,
     "metadata": {},
     "output_type": "execute_result"
    }
   ],
   "source": [
    "df"
   ]
  },
  {
   "cell_type": "markdown",
   "metadata": {},
   "source": [
    "добавить лайки"
   ]
  },
  {
   "cell_type": "code",
   "execution_count": 194,
   "metadata": {},
   "outputs": [],
   "source": [
    "def like(link): #----функция для ввода оценок\n",
    "    r = requests.get(str(link))\n",
    "    soup = BeautifulSoup(r.text, 'html.parser')\n",
    "    likes = soup.find('div', class_='tm-votes-meter tm-article-rating__votes-switcher').text\n",
    "    return likes"
   ]
  },
  {
   "cell_type": "code",
   "execution_count": 195,
   "metadata": {},
   "outputs": [
    {
     "data": {
      "text/html": [
       "<div>\n",
       "<style scoped>\n",
       "    .dataframe tbody tr th:only-of-type {\n",
       "        vertical-align: middle;\n",
       "    }\n",
       "\n",
       "    .dataframe tbody tr th {\n",
       "        vertical-align: top;\n",
       "    }\n",
       "\n",
       "    .dataframe thead th {\n",
       "        text-align: right;\n",
       "    }\n",
       "</style>\n",
       "<table border=\"1\" class=\"dataframe\">\n",
       "  <thead>\n",
       "    <tr style=\"text-align: right;\">\n",
       "      <th></th>\n",
       "      <th>time</th>\n",
       "      <th>title</th>\n",
       "      <th>link</th>\n",
       "      <th>article</th>\n",
       "      <th>likes</th>\n",
       "    </tr>\n",
       "  </thead>\n",
       "  <tbody>\n",
       "    <tr>\n",
       "      <th>0</th>\n",
       "      <td>2022-03-24T08:10:43.000Z</td>\n",
       "      <td>Путешествие по камням, или Как мы скрестили кр...</td>\n",
       "      <td>https://habr.com/ru/company/solarsecurity/blog...</td>\n",
       "      <td>Однажды моей команде довелось организовывать н...</td>\n",
       "      <td>Всего голосов 4: ↑4 и ↓0  +4</td>\n",
       "    </tr>\n",
       "    <tr>\n",
       "      <th>1</th>\n",
       "      <td>2022-03-24T08:04:02.000Z</td>\n",
       "      <td>Тайм-менеджмент, или современная алхимия</td>\n",
       "      <td>https://habr.com/ru/post/657193/</td>\n",
       "      <td>Средневековые энтузиасты  корпели над своими к...</td>\n",
       "      <td>Всего голосов 1: ↑1 и ↓0  +1</td>\n",
       "    </tr>\n",
       "    <tr>\n",
       "      <th>2</th>\n",
       "      <td>2022-03-24T07:00:02.000Z</td>\n",
       "      <td>Диагностика и мониторинг Wi-Fi устройств в Gra...</td>\n",
       "      <td>https://habr.com/ru/post/656509/</td>\n",
       "      <td>Три года назад я рассказал, как сделал пристав...</td>\n",
       "      <td>Всего голосов 2: ↑2 и ↓0  +2</td>\n",
       "    </tr>\n",
       "  </tbody>\n",
       "</table>\n",
       "</div>"
      ],
      "text/plain": [
       "                       time  \\\n",
       "0  2022-03-24T08:10:43.000Z   \n",
       "1  2022-03-24T08:04:02.000Z   \n",
       "2  2022-03-24T07:00:02.000Z   \n",
       "\n",
       "                                               title  \\\n",
       "0  Путешествие по камням, или Как мы скрестили кр...   \n",
       "1           Тайм-менеджмент, или современная алхимия   \n",
       "2  Диагностика и мониторинг Wi-Fi устройств в Gra...   \n",
       "\n",
       "                                                link  \\\n",
       "0  https://habr.com/ru/company/solarsecurity/blog...   \n",
       "1                   https://habr.com/ru/post/657193/   \n",
       "2                   https://habr.com/ru/post/656509/   \n",
       "\n",
       "                                             article  \\\n",
       "0  Однажды моей команде довелось организовывать н...   \n",
       "1  Средневековые энтузиасты  корпели над своими к...   \n",
       "2  Три года назад я рассказал, как сделал пристав...   \n",
       "\n",
       "                          likes  \n",
       "0  Всего голосов 4: ↑4 и ↓0  +4  \n",
       "1  Всего голосов 1: ↑1 и ↓0  +1  \n",
       "2  Всего голосов 2: ↑2 и ↓0  +2  "
      ]
     },
     "execution_count": 195,
     "metadata": {},
     "output_type": "execute_result"
    }
   ],
   "source": [
    "df['likes'] = df['link'].apply(like)\n",
    "df"
   ]
  }
 ],
 "metadata": {
  "kernelspec": {
   "display_name": "Python 3",
   "language": "python",
   "name": "python3"
  },
  "language_info": {
   "codemirror_mode": {
    "name": "ipython",
    "version": 3
   },
   "file_extension": ".py",
   "mimetype": "text/x-python",
   "name": "python",
   "nbconvert_exporter": "python",
   "pygments_lexer": "ipython3",
   "version": "3.8.3"
  }
 },
 "nbformat": 4,
 "nbformat_minor": 4
}
