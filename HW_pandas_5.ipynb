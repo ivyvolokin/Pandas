{
 "cells": [
  {
   "cell_type": "code",
   "execution_count": 1,
   "metadata": {},
   "outputs": [],
   "source": [
    "import requests\n",
    "from time import sleep\n",
    "import pandas as pd\n",
    "from bs4 import BeautifulSoup"
   ]
  },
  {
   "cell_type": "code",
   "execution_count": null,
   "metadata": {},
   "outputs": [],
   "source": []
  },
  {
   "cell_type": "code",
   "execution_count": null,
   "metadata": {},
   "outputs": [],
   "source": []
  },
  {
   "cell_type": "code",
   "execution_count": 14,
   "metadata": {},
   "outputs": [
    {
     "name": "stdout",
     "output_type": "stream",
     "text": [
      "1\n",
      "https://habr.com/ru/all/page1/\n",
      "2\n",
      "https://habr.com/ru/all/page2/\n",
      "Создание игр для NES на ассемблере 6502: спрайтовая графика\n"
     ]
    }
   ],
   "source": [
    "keywords = ['алхимия', 'устройств']\n",
    "\n",
    "p = 2\n",
    "data = []\n",
    "for p in range(1, p + 1):\n",
    "    print(p)\n",
    "    url_ = f\"https://habr.com/ru/all/page{p}/\"\n",
    "    print(url_)\n",
    "    r_ = requests.get(url_)\n",
    "    sleep(3)\n",
    "    soup = BeautifulSoup(r_.text, 'lxml')\n",
    "    posts = soup.findAll('article', class_='tm-articles-list__item')\n",
    "\n",
    "    for post in posts:\n",
    "        try:\n",
    "            title = post.find('h2', class_='tm-article-snippet__title tm-article-snippet__title_h2').text\n",
    "            if any(word in title.lower().split() for word in keywords):\n",
    "            \n",
    "                link = 'https://habr.com' + post.find('a', class_ = 'tm-article-snippet__title-link' ).get('href')\n",
    "        \n",
    "                time_ = post.find('span', class_ = 'tm-article-snippet__datetime-published').time.get('datetime')\n",
    "            \n",
    "                data.append([time_, title, link])\n",
    "        except:\n",
    "            print(title)\n",
    "            continue"
   ]
  },
  {
   "cell_type": "code",
   "execution_count": 15,
   "metadata": {},
   "outputs": [
    {
     "data": {
      "text/plain": [
       "[['2022-03-24T08:10:43.000Z',\n",
       "  'Путешествие по камням, или Как мы скрестили криптошлюзы S‑Terra с Ansible для автоматизации конфигурирования устройств',\n",
       "  'https://habr.com/ru/company/solarsecurity/blog/655753/'],\n",
       " ['2022-03-24T08:04:02.000Z',\n",
       "  'Тайм-менеджмент, или современная алхимия',\n",
       "  'https://habr.com/ru/post/657193/'],\n",
       " ['2022-03-24T07:00:02.000Z',\n",
       "  'Диагностика и мониторинг Wi-Fi устройств в Grafana',\n",
       "  'https://habr.com/ru/post/656509/']]"
      ]
     },
     "execution_count": 15,
     "metadata": {},
     "output_type": "execute_result"
    }
   ],
   "source": [
    "data"
   ]
  },
  {
   "cell_type": "code",
   "execution_count": 16,
   "metadata": {},
   "outputs": [],
   "source": [
    "header = ['time','title','link']\n",
    "df = pd.DataFrame(data, columns = header)"
   ]
  },
  {
   "cell_type": "code",
   "execution_count": 17,
   "metadata": {},
   "outputs": [
    {
     "data": {
      "text/html": [
       "<div>\n",
       "<style scoped>\n",
       "    .dataframe tbody tr th:only-of-type {\n",
       "        vertical-align: middle;\n",
       "    }\n",
       "\n",
       "    .dataframe tbody tr th {\n",
       "        vertical-align: top;\n",
       "    }\n",
       "\n",
       "    .dataframe thead th {\n",
       "        text-align: right;\n",
       "    }\n",
       "</style>\n",
       "<table border=\"1\" class=\"dataframe\">\n",
       "  <thead>\n",
       "    <tr style=\"text-align: right;\">\n",
       "      <th></th>\n",
       "      <th>time</th>\n",
       "      <th>title</th>\n",
       "      <th>link</th>\n",
       "    </tr>\n",
       "  </thead>\n",
       "  <tbody>\n",
       "    <tr>\n",
       "      <th>0</th>\n",
       "      <td>2022-03-24T08:10:43.000Z</td>\n",
       "      <td>Путешествие по камням, или Как мы скрестили кр...</td>\n",
       "      <td>https://habr.com/ru/company/solarsecurity/blog...</td>\n",
       "    </tr>\n",
       "    <tr>\n",
       "      <th>1</th>\n",
       "      <td>2022-03-24T08:04:02.000Z</td>\n",
       "      <td>Тайм-менеджмент, или современная алхимия</td>\n",
       "      <td>https://habr.com/ru/post/657193/</td>\n",
       "    </tr>\n",
       "    <tr>\n",
       "      <th>2</th>\n",
       "      <td>2022-03-24T07:00:02.000Z</td>\n",
       "      <td>Диагностика и мониторинг Wi-Fi устройств в Gra...</td>\n",
       "      <td>https://habr.com/ru/post/656509/</td>\n",
       "    </tr>\n",
       "  </tbody>\n",
       "</table>\n",
       "</div>"
      ],
      "text/plain": [
       "                       time  \\\n",
       "0  2022-03-24T08:10:43.000Z   \n",
       "1  2022-03-24T08:04:02.000Z   \n",
       "2  2022-03-24T07:00:02.000Z   \n",
       "\n",
       "                                               title  \\\n",
       "0  Путешествие по камням, или Как мы скрестили кр...   \n",
       "1           Тайм-менеджмент, или современная алхимия   \n",
       "2  Диагностика и мониторинг Wi-Fi устройств в Gra...   \n",
       "\n",
       "                                                link  \n",
       "0  https://habr.com/ru/company/solarsecurity/blog...  \n",
       "1                   https://habr.com/ru/post/657193/  \n",
       "2                   https://habr.com/ru/post/656509/  "
      ]
     },
     "execution_count": 17,
     "metadata": {},
     "output_type": "execute_result"
    }
   ],
   "source": [
    "df"
   ]
  }
 ],
 "metadata": {
  "kernelspec": {
   "display_name": "Python 3",
   "language": "python",
   "name": "python3"
  },
  "language_info": {
   "codemirror_mode": {
    "name": "ipython",
    "version": 3
   },
   "file_extension": ".py",
   "mimetype": "text/x-python",
   "name": "python",
   "nbconvert_exporter": "python",
   "pygments_lexer": "ipython3",
   "version": "3.8.3"
  }
 },
 "nbformat": 4,
 "nbformat_minor": 4
}
