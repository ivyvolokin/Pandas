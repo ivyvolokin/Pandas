{
 "cells": [
  {
   "cell_type": "markdown",
   "id": "c20644b8",
   "metadata": {},
   "source": [
    "Задание 1\n",
    "Вернемся к набору данных о видеоиграх.\n",
    "\n",
    "Ответьте на следующие вопросы:\n",
    "\n",
    "1) Как критики относятся к спортивным играм?\\\n",
    "2) Критикам нравятся больше игры на PC или на PS4?\\\n",
    "3) Критикам больше нравятся стрелялки или стратегии?\n",
    "\n",
    "Для каждого вопроса:\n",
    "\n",
    "сформулируйте нулевую и альтернативную гипотезы;\\\n",
    "выберите пороговый уровень статистической значимости;\\\n",
    "опишите полученные результаты статистического теста.m"
   ]
  },
  {
   "cell_type": "code",
   "execution_count": 2,
   "id": "291be7be",
   "metadata": {
    "scrolled": true
   },
   "outputs": [
    {
     "data": {
      "text/html": [
       "<div>\n",
       "<style scoped>\n",
       "    .dataframe tbody tr th:only-of-type {\n",
       "        vertical-align: middle;\n",
       "    }\n",
       "\n",
       "    .dataframe tbody tr th {\n",
       "        vertical-align: top;\n",
       "    }\n",
       "\n",
       "    .dataframe thead th {\n",
       "        text-align: right;\n",
       "    }\n",
       "</style>\n",
       "<table border=\"1\" class=\"dataframe\">\n",
       "  <thead>\n",
       "    <tr style=\"text-align: right;\">\n",
       "      <th></th>\n",
       "      <th>Name</th>\n",
       "      <th>Platform</th>\n",
       "      <th>Year_of_Release</th>\n",
       "      <th>Genre</th>\n",
       "      <th>Publisher</th>\n",
       "      <th>NA_Sales</th>\n",
       "      <th>EU_Sales</th>\n",
       "      <th>JP_Sales</th>\n",
       "      <th>Other_Sales</th>\n",
       "      <th>Global_Sales</th>\n",
       "      <th>Critic_Score</th>\n",
       "      <th>Critic_Count</th>\n",
       "      <th>User_Score</th>\n",
       "      <th>User_Count</th>\n",
       "      <th>Developer</th>\n",
       "      <th>Rating</th>\n",
       "    </tr>\n",
       "  </thead>\n",
       "  <tbody>\n",
       "    <tr>\n",
       "      <th>0</th>\n",
       "      <td>Wii Sports</td>\n",
       "      <td>Wii</td>\n",
       "      <td>2006.0</td>\n",
       "      <td>Sports</td>\n",
       "      <td>Nintendo</td>\n",
       "      <td>41.36</td>\n",
       "      <td>28.96</td>\n",
       "      <td>3.77</td>\n",
       "      <td>8.45</td>\n",
       "      <td>82.53</td>\n",
       "      <td>76.0</td>\n",
       "      <td>51.0</td>\n",
       "      <td>8</td>\n",
       "      <td>322.0</td>\n",
       "      <td>Nintendo</td>\n",
       "      <td>E</td>\n",
       "    </tr>\n",
       "    <tr>\n",
       "      <th>1</th>\n",
       "      <td>Super Mario Bros.</td>\n",
       "      <td>NES</td>\n",
       "      <td>1985.0</td>\n",
       "      <td>Platform</td>\n",
       "      <td>Nintendo</td>\n",
       "      <td>29.08</td>\n",
       "      <td>3.58</td>\n",
       "      <td>6.81</td>\n",
       "      <td>0.77</td>\n",
       "      <td>40.24</td>\n",
       "      <td>NaN</td>\n",
       "      <td>NaN</td>\n",
       "      <td>NaN</td>\n",
       "      <td>NaN</td>\n",
       "      <td>NaN</td>\n",
       "      <td>NaN</td>\n",
       "    </tr>\n",
       "    <tr>\n",
       "      <th>2</th>\n",
       "      <td>Mario Kart Wii</td>\n",
       "      <td>Wii</td>\n",
       "      <td>2008.0</td>\n",
       "      <td>Racing</td>\n",
       "      <td>Nintendo</td>\n",
       "      <td>15.68</td>\n",
       "      <td>12.76</td>\n",
       "      <td>3.79</td>\n",
       "      <td>3.29</td>\n",
       "      <td>35.52</td>\n",
       "      <td>82.0</td>\n",
       "      <td>73.0</td>\n",
       "      <td>8.3</td>\n",
       "      <td>709.0</td>\n",
       "      <td>Nintendo</td>\n",
       "      <td>E</td>\n",
       "    </tr>\n",
       "    <tr>\n",
       "      <th>3</th>\n",
       "      <td>Wii Sports Resort</td>\n",
       "      <td>Wii</td>\n",
       "      <td>2009.0</td>\n",
       "      <td>Sports</td>\n",
       "      <td>Nintendo</td>\n",
       "      <td>15.61</td>\n",
       "      <td>10.93</td>\n",
       "      <td>3.28</td>\n",
       "      <td>2.95</td>\n",
       "      <td>32.77</td>\n",
       "      <td>80.0</td>\n",
       "      <td>73.0</td>\n",
       "      <td>8</td>\n",
       "      <td>192.0</td>\n",
       "      <td>Nintendo</td>\n",
       "      <td>E</td>\n",
       "    </tr>\n",
       "    <tr>\n",
       "      <th>4</th>\n",
       "      <td>Pokemon Red/Pokemon Blue</td>\n",
       "      <td>GB</td>\n",
       "      <td>1996.0</td>\n",
       "      <td>Role-Playing</td>\n",
       "      <td>Nintendo</td>\n",
       "      <td>11.27</td>\n",
       "      <td>8.89</td>\n",
       "      <td>10.22</td>\n",
       "      <td>1.00</td>\n",
       "      <td>31.37</td>\n",
       "      <td>NaN</td>\n",
       "      <td>NaN</td>\n",
       "      <td>NaN</td>\n",
       "      <td>NaN</td>\n",
       "      <td>NaN</td>\n",
       "      <td>NaN</td>\n",
       "    </tr>\n",
       "  </tbody>\n",
       "</table>\n",
       "</div>"
      ],
      "text/plain": [
       "                       Name Platform  Year_of_Release         Genre Publisher  \\\n",
       "0                Wii Sports      Wii           2006.0        Sports  Nintendo   \n",
       "1         Super Mario Bros.      NES           1985.0      Platform  Nintendo   \n",
       "2            Mario Kart Wii      Wii           2008.0        Racing  Nintendo   \n",
       "3         Wii Sports Resort      Wii           2009.0        Sports  Nintendo   \n",
       "4  Pokemon Red/Pokemon Blue       GB           1996.0  Role-Playing  Nintendo   \n",
       "\n",
       "   NA_Sales  EU_Sales  JP_Sales  Other_Sales  Global_Sales  Critic_Score  \\\n",
       "0     41.36     28.96      3.77         8.45         82.53          76.0   \n",
       "1     29.08      3.58      6.81         0.77         40.24           NaN   \n",
       "2     15.68     12.76      3.79         3.29         35.52          82.0   \n",
       "3     15.61     10.93      3.28         2.95         32.77          80.0   \n",
       "4     11.27      8.89     10.22         1.00         31.37           NaN   \n",
       "\n",
       "   Critic_Count User_Score  User_Count Developer Rating  \n",
       "0          51.0          8       322.0  Nintendo      E  \n",
       "1           NaN        NaN         NaN       NaN    NaN  \n",
       "2          73.0        8.3       709.0  Nintendo      E  \n",
       "3          73.0          8       192.0  Nintendo      E  \n",
       "4           NaN        NaN         NaN       NaN    NaN  "
      ]
     },
     "execution_count": 2,
     "metadata": {},
     "output_type": "execute_result"
    }
   ],
   "source": [
    "import pandas as pd\n",
    "rat = pd.read_csv('C://Users//Ivan//Desktop//vgsales.csv')\n",
    "rat.head()"
   ]
  },
  {
   "cell_type": "markdown",
   "id": "e10158bc",
   "metadata": {},
   "source": [
    "<mark>1) Как критики относятся к спортивным играм?</mark>"
   ]
  },
  {
   "cell_type": "markdown",
   "id": "f559f6a8",
   "metadata": {},
   "source": [
    "1) H0: <u>средняя оценка критиками спортивных игр не отличается от оценок других жанров </u>\\\n",
    "   H1: <u>средняя оценка критиками спортивных игр различается от оценок других жанров </u>\n",
    "   \n",
    "2) Возьмем стандартный уровень статистической значимости в 0.05 \n",
    "\n",
    "3) Используем двухвыборочный тест, т.к. две выборки\n",
    "\n",
    "4) Используем двухсторонний вариант теста (и негативная и позитивная оценка) \n",
    "\n",
    "5) Определяем, равна ли дисперсия групп(критерий Уэлча).\n",
    "\n"
   ]
  },
  {
   "cell_type": "code",
   "execution_count": 5,
   "id": "e81f7afa",
   "metadata": {},
   "outputs": [],
   "source": [
    "# Создадим датасет только с оценками по спортивным играм и удаляем пустые строки\n",
    "data_sport = rat[['Critic_Score']].loc[rat.Genre == 'Sports'].dropna()\n",
    "# Создадим датасет только с оценками по играм остальных жанров и удаляем пустые строки\n",
    "data_no_sport = rat[['Critic_Score']].loc[rat.Genre != 'Sports'].dropna()"
   ]
  },
  {
   "cell_type": "code",
   "execution_count": 7,
   "id": "dc524c74",
   "metadata": {},
   "outputs": [
    {
     "name": "stdout",
     "output_type": "stream",
     "text": [
      "Ttest_indResult(statistic=8.08698828481822, pvalue=1.181171308320441e-15)\n",
      "Отвергаем нулевую гипотезу, средняя оценка критиками спортивных игр различается от оценок других жанров\n"
     ]
    }
   ],
   "source": [
    "import scipy.stats as stats\n",
    "#Задаем уровень значимости\n",
    "alpha = 0.05\n",
    "#Применяем двухсторонний двухвыборочный критерий Стьюдента\n",
    "result = stats.ttest_ind(data_sport['Critic_Score'], data_no_sport['Critic_Score'], equal_var=False)\n",
    "print(result)\n",
    "if (result.pvalue < alpha):\n",
    "    print('Отвергаем нулевую гипотезу, средняя оценка критиками спортивных игр различается от оценок других жанров')\n",
    "else:\n",
    "    print('Не отвергаем нулевую гипотезу')"
   ]
  },
  {
   "cell_type": "markdown",
   "id": "ec7e1d6f",
   "metadata": {},
   "source": [
    "<mark>2. Критикам нравятся больше игры на PC или на PS4?</mark>"
   ]
  },
  {
   "cell_type": "markdown",
   "id": "b9664a4e",
   "metadata": {},
   "source": [
    "1) H0: <u>средняя оценка критиками игр на PC и PS4 одинакова </u>\\\n",
    "H1: <u>средняя оценка критиками игр на PC и PS4 различается </u>\n",
    "\n",
    "2) Возьмем стандартный уровень статистической значимости в 0.05 \n",
    "\n",
    "3) Используем двухвыборочный тест, т.к. две выборки\n",
    "\n",
    "4) Используем двухсторонний вариант теста (т.к. нас интересует игры на какой платформе больше нравится критикам) \n",
    "\n",
    "5) Используем критерий Уэлча для определения равенства ли дисперсия групп"
   ]
  },
  {
   "cell_type": "code",
   "execution_count": 11,
   "id": "b42d750d",
   "metadata": {},
   "outputs": [],
   "source": [
    "# Создадим датасет только с оценками критиков по играм на PC и удаляем пустые строки\n",
    "data_PC = rat[['Critic_Score']].loc[rat.Platform == 'PC'].dropna()\n",
    "# Создадим датасет только с оценками критиков по играм на PS4 и удаляем пустые строки\n",
    "data_PS4 = rat[['Critic_Score']].loc[rat.Platform == 'PS4'].dropna()"
   ]
  },
  {
   "cell_type": "code",
   "execution_count": 12,
   "id": "a273c75c",
   "metadata": {},
   "outputs": [
    {
     "name": "stdout",
     "output_type": "stream",
     "text": [
      "Ttest_indResult(statistic=4.3087588262138725, pvalue=2.067249157283479e-05)\n",
      "Отвергаем нулевую гипотезу, средняя оценка критиками игр на PC различается от оценок игр на PS4\n"
     ]
    }
   ],
   "source": [
    "#Задаем уровень значимости\n",
    "alpha = 0.05\n",
    "#Применяем односторонний двухвыборочный критерий Стьюдента\n",
    "result = stats.ttest_ind(data_PC['Critic_Score'], data_PS4['Critic_Score'], equal_var=False)\n",
    "print(result)\n",
    "if (result.pvalue < alpha):\n",
    "    print('Отвергаем нулевую гипотезу, средняя оценка критиками игр на PC различается от оценок игр на PS4')\n",
    "else:\n",
    "    print('Не отвергаем нулевую гипотезу')"
   ]
  },
  {
   "cell_type": "markdown",
   "id": "82958973",
   "metadata": {},
   "source": [
    "Вывод: p_value < 0.05 -> отвергаем нулевую гипотезу о равенстве средних оценок критиков игр на PC и PS4, при этом средняя оценка на PC ниже средней оценки игр на PS4. С высокой долей статистической значимости можем предположить, что <b>критикам больше нравятся игры на PS4.</b>"
   ]
  },
  {
   "cell_type": "markdown",
   "id": "c63a05af",
   "metadata": {},
   "source": [
    "<mark>3) Критикам больше нравятся стрелялки или стратегии?</mark>"
   ]
  },
  {
   "cell_type": "markdown",
   "id": "728b7c2a",
   "metadata": {},
   "source": [
    "1) H0: <u>средняя оценка критиками \"стрелялок\" и \"стратегий\" одинакова</u>\\\n",
    "H1: <u>средняя оценка критиками \"стрелялок\" и \"стратегий\" различается</u>\n",
    "    \n",
    "2)Возьмем стандартный уровень статистической значимости в 0.05\n",
    "\n",
    "3)Используем двухвыборочный тест, т.к. две выборкит \n",
    "\n",
    "4)Используем двухсторонний вариант теста(т.к. нас интересует какой вид игры больше нравится критикам) \n",
    "\n",
    "5)Используем критерий Уэлча для определения равенства ли дисперсия групп"
   ]
  },
  {
   "cell_type": "code",
   "execution_count": 14,
   "id": "0d021944",
   "metadata": {},
   "outputs": [],
   "source": [
    "# Создадим датасет только с оценками критиков по играм на PC\n",
    "data_Shooter = rat[['Critic_Score']].loc[rat.Genre == 'Shooter'].dropna()\n",
    "# Создадим датасет только с оценками критиков по играм на PS4\n",
    "data_Strategy = rat[['Critic_Score']].loc[rat.Genre == 'Strategy'].dropna()"
   ]
  },
  {
   "cell_type": "code",
   "execution_count": 15,
   "id": "328bd5f1",
   "metadata": {},
   "outputs": [
    {
     "name": "stdout",
     "output_type": "stream",
     "text": [
      "Ttest_indResult(statistic=-2.2972408230640315, pvalue=0.021938989522304823)\n",
      "Отвергаем нулевую гипотезу, средняя оценка критиками \"стрелялок\" различается от оценок \"стратегий\"\n"
     ]
    }
   ],
   "source": [
    "#Задаем уровень значимости\n",
    "alpha = 0.05\n",
    "#Применяем односторонний двухвыборочный критерий Стьюдента\n",
    "result = stats.ttest_ind(data_Shooter['Critic_Score'], data_Strategy['Critic_Score'], equal_var=False)\n",
    "print(result)\n",
    "if (result.pvalue < alpha):\n",
    "    print('Отвергаем нулевую гипотезу, средняя оценка критиками \"стрелялок\" различается от оценок \"стратегий\"')\n",
    "else:\n",
    "    print('Не отвергаем нулевую гипотезу')"
   ]
  },
  {
   "cell_type": "markdown",
   "id": "6c1f4642",
   "metadata": {},
   "source": [
    "Вывод: p_value > 0.05 -> не отвергаем нулевую гипотезу о равенстве средних оценок критиков игр на PC и PS4. С недостаточным уровнем статистической значимости можем сказать, что <b>средняя оценка стратегий выше средней оценки стрелялок.</b>"
   ]
  },
  {
   "cell_type": "raw",
   "id": "1d4f8f23",
   "metadata": {},
   "source": [
    "Задание 2"
   ]
  },
  {
   "cell_type": "markdown",
   "id": "88ba10be",
   "metadata": {},
   "source": [
    "Реализуйте базовую модель логистической регрессии для классификации текстовых сообщений (используемые данные здесь) по признаку спама. \n",
    "\n",
    "Для этого:\n",
    "1) Привидите весь текст к нижнему регистру;\n",
    "2) Удалите мусорные символы;\n",
    "3) Удалите стоп-слова;\n",
    "4) Привидите все слова к нормальной форме;\n",
    "5) Преобразуйте все сообщения в вектора TF-IDF. Вам поможет следующий код:\n",
    "\n",
    "from sklearn.feature_extraction.text import TfidfVectorizer\n",
    "\n",
    "tfidf = TfidfVectorizer()\n",
    "tfidf_matrix = tfidf.fit_transform(df.Message)\n",
    "names = tfidf.get_feature_names()\n",
    "tfidf_matrix = pd.DataFrame(tfidf_matrix.toarray(), columns=names)\n",
    "\n",
    "\n",
    "Можете поэкспериментировать с параметрами TfidfVectorizer;\n",
    "6) Разделите данные на тестовые и тренировочные в соотношении 30/70, укажите random_state=42. Используйте train_test_split;\n",
    "7) Постройте модель логистической регрессии, укажите random_state=42, оцените ее точность на тестовых данных;\n",
    "8) Опишите результаты при помощи confusion_matrix;\n",
    "9) Постройте датафрейм, который будет содержать все исходные тексты сообщений, классифицированные неправильно (с указанием фактического и предсказанного)."
   ]
  },
  {
   "cell_type": "code",
   "execution_count": 45,
   "id": "dda55827",
   "metadata": {},
   "outputs": [
    {
     "data": {
      "text/html": [
       "<div>\n",
       "<style scoped>\n",
       "    .dataframe tbody tr th:only-of-type {\n",
       "        vertical-align: middle;\n",
       "    }\n",
       "\n",
       "    .dataframe tbody tr th {\n",
       "        vertical-align: top;\n",
       "    }\n",
       "\n",
       "    .dataframe thead th {\n",
       "        text-align: right;\n",
       "    }\n",
       "</style>\n",
       "<table border=\"1\" class=\"dataframe\">\n",
       "  <thead>\n",
       "    <tr style=\"text-align: right;\">\n",
       "      <th></th>\n",
       "      <th>Category</th>\n",
       "      <th>Message</th>\n",
       "    </tr>\n",
       "  </thead>\n",
       "  <tbody>\n",
       "    <tr>\n",
       "      <th>0</th>\n",
       "      <td>ham</td>\n",
       "      <td>Go until jurong point, crazy.. Available only ...</td>\n",
       "    </tr>\n",
       "    <tr>\n",
       "      <th>1</th>\n",
       "      <td>ham</td>\n",
       "      <td>Ok lar... Joking wif u oni...</td>\n",
       "    </tr>\n",
       "    <tr>\n",
       "      <th>2</th>\n",
       "      <td>spam</td>\n",
       "      <td>Free entry in 2 a wkly comp to win FA Cup fina...</td>\n",
       "    </tr>\n",
       "    <tr>\n",
       "      <th>3</th>\n",
       "      <td>ham</td>\n",
       "      <td>U dun say so early hor... U c already then say...</td>\n",
       "    </tr>\n",
       "    <tr>\n",
       "      <th>4</th>\n",
       "      <td>ham</td>\n",
       "      <td>Nah I don't think he goes to usf, he lives aro...</td>\n",
       "    </tr>\n",
       "  </tbody>\n",
       "</table>\n",
       "</div>"
      ],
      "text/plain": [
       "  Category                                            Message\n",
       "0      ham  Go until jurong point, crazy.. Available only ...\n",
       "1      ham                      Ok lar... Joking wif u oni...\n",
       "2     spam  Free entry in 2 a wkly comp to win FA Cup fina...\n",
       "3      ham  U dun say so early hor... U c already then say...\n",
       "4      ham  Nah I don't think he goes to usf, he lives aro..."
      ]
     },
     "execution_count": 45,
     "metadata": {},
     "output_type": "execute_result"
    }
   ],
   "source": [
    "\n",
    "spam = pd.read_csv('https://raw.githubusercontent.com/obulygin/pyda_homeworks/master/stat_case_study/spam.csv')\n",
    "spam.head(5)"
   ]
  },
  {
   "cell_type": "code",
   "execution_count": 46,
   "id": "9d50ca4a",
   "metadata": {},
   "outputs": [
    {
     "data": {
      "text/html": [
       "<div>\n",
       "<style scoped>\n",
       "    .dataframe tbody tr th:only-of-type {\n",
       "        vertical-align: middle;\n",
       "    }\n",
       "\n",
       "    .dataframe tbody tr th {\n",
       "        vertical-align: top;\n",
       "    }\n",
       "\n",
       "    .dataframe thead th {\n",
       "        text-align: right;\n",
       "    }\n",
       "</style>\n",
       "<table border=\"1\" class=\"dataframe\">\n",
       "  <thead>\n",
       "    <tr style=\"text-align: right;\">\n",
       "      <th></th>\n",
       "      <th>Category</th>\n",
       "      <th>Message</th>\n",
       "    </tr>\n",
       "  </thead>\n",
       "  <tbody>\n",
       "    <tr>\n",
       "      <th>count</th>\n",
       "      <td>5572</td>\n",
       "      <td>5572</td>\n",
       "    </tr>\n",
       "    <tr>\n",
       "      <th>unique</th>\n",
       "      <td>2</td>\n",
       "      <td>5157</td>\n",
       "    </tr>\n",
       "    <tr>\n",
       "      <th>top</th>\n",
       "      <td>ham</td>\n",
       "      <td>Sorry, I'll call later</td>\n",
       "    </tr>\n",
       "    <tr>\n",
       "      <th>freq</th>\n",
       "      <td>4825</td>\n",
       "      <td>30</td>\n",
       "    </tr>\n",
       "  </tbody>\n",
       "</table>\n",
       "</div>"
      ],
      "text/plain": [
       "       Category                 Message\n",
       "count      5572                    5572\n",
       "unique        2                    5157\n",
       "top         ham  Sorry, I'll call later\n",
       "freq       4825                      30"
      ]
     },
     "execution_count": 46,
     "metadata": {},
     "output_type": "execute_result"
    }
   ],
   "source": [
    "spam.describe()"
   ]
  },
  {
   "cell_type": "code",
   "execution_count": 47,
   "id": "81ce5fd6",
   "metadata": {},
   "outputs": [
    {
     "name": "stderr",
     "output_type": "stream",
     "text": [
      "[nltk_data] Downloading package stopwords to\n",
      "[nltk_data]     C:\\Users\\Ivan\\AppData\\Roaming\\nltk_data...\n",
      "[nltk_data]   Package stopwords is already up-to-date!\n",
      "[nltk_data] Downloading package wordnet to\n",
      "[nltk_data]     C:\\Users\\Ivan\\AppData\\Roaming\\nltk_data...\n",
      "[nltk_data]   Package wordnet is already up-to-date!\n"
     ]
    }
   ],
   "source": [
    "import re\n",
    "import nltk\n",
    "nltk.download('stopwords')\n",
    "nltk.download('wordnet')\n",
    "from nltk.corpus import stopwords\n",
    "\n",
    "from nltk.stem import WordNetLemmatizer\n",
    "\n"
   ]
  },
  {
   "cell_type": "code",
   "execution_count": 48,
   "id": "c36a3b15",
   "metadata": {},
   "outputs": [],
   "source": [
    "def normalize_word(stroka):\n",
    "    stroka = stroka.lower() #Приводим к нижнему регистру\n",
    "    stroka = re.sub('[\\W_]+',' ', stroka) # уберем все служебные символы\n",
    "    stroka = stroka.split() # разделим все на слова\n",
    "    stroka = [word for word in stroka if word not in set(stopwords.words('english'))] #убираем стоп-слова\n",
    "    stroka = [wordnet_lemmatizer.lemmatize(word) for word in stroka] #приведем слова к леммам\n",
    "    stroka = ' '.join(map(str, stroka)) #преобразуем в строку\n",
    "    return stroka\n",
    "spam['Message'] = spam.Message.apply(normalize_word)"
   ]
  },
  {
   "cell_type": "code",
   "execution_count": 49,
   "id": "45fc5f25",
   "metadata": {
    "scrolled": false
   },
   "outputs": [
    {
     "name": "stdout",
     "output_type": "stream",
     "text": [
      "<class 'pandas.core.frame.DataFrame'>\n",
      "RangeIndex: 5572 entries, 0 to 5571\n",
      "Data columns (total 2 columns):\n",
      " #   Column    Non-Null Count  Dtype \n",
      "---  ------    --------------  ----- \n",
      " 0   Category  5572 non-null   object\n",
      " 1   Message   5572 non-null   object\n",
      "dtypes: object(2)\n",
      "memory usage: 87.2+ KB\n",
      "None   Category                                            Message\n",
      "0      ham  go jurong point crazy available bugis n great ...\n",
      "1      ham                            ok lar joking wif u oni\n",
      "2     spam  free entry 2 wkly comp win fa cup final tkts 2...\n",
      "3      ham                u dun say early hor u c already say\n",
      "4      ham                nah think go usf life around though\n"
     ]
    }
   ],
   "source": [
    "print(spam.info(), spam.head())"
   ]
  },
  {
   "cell_type": "code",
   "execution_count": 50,
   "id": "837b8c64",
   "metadata": {},
   "outputs": [
    {
     "data": {
      "text/html": [
       "<div>\n",
       "<style scoped>\n",
       "    .dataframe tbody tr th:only-of-type {\n",
       "        vertical-align: middle;\n",
       "    }\n",
       "\n",
       "    .dataframe tbody tr th {\n",
       "        vertical-align: top;\n",
       "    }\n",
       "\n",
       "    .dataframe thead th {\n",
       "        text-align: right;\n",
       "    }\n",
       "</style>\n",
       "<table border=\"1\" class=\"dataframe\">\n",
       "  <thead>\n",
       "    <tr style=\"text-align: right;\">\n",
       "      <th></th>\n",
       "      <th>00</th>\n",
       "      <th>000</th>\n",
       "      <th>000pes</th>\n",
       "      <th>008704050406</th>\n",
       "      <th>0089</th>\n",
       "      <th>0121</th>\n",
       "      <th>01223585236</th>\n",
       "      <th>01223585334</th>\n",
       "      <th>0125698789</th>\n",
       "      <th>02</th>\n",
       "      <th>...</th>\n",
       "      <th>zhong</th>\n",
       "      <th>zindgi</th>\n",
       "      <th>zoe</th>\n",
       "      <th>zogtorius</th>\n",
       "      <th>zoom</th>\n",
       "      <th>zouk</th>\n",
       "      <th>zyada</th>\n",
       "      <th>èn</th>\n",
       "      <th>ú1</th>\n",
       "      <th>〨ud</th>\n",
       "    </tr>\n",
       "  </thead>\n",
       "  <tbody>\n",
       "    <tr>\n",
       "      <th>0</th>\n",
       "      <td>0.0</td>\n",
       "      <td>0.0</td>\n",
       "      <td>0.0</td>\n",
       "      <td>0.0</td>\n",
       "      <td>0.0</td>\n",
       "      <td>0.0</td>\n",
       "      <td>0.0</td>\n",
       "      <td>0.0</td>\n",
       "      <td>0.0</td>\n",
       "      <td>0.0</td>\n",
       "      <td>...</td>\n",
       "      <td>0.0</td>\n",
       "      <td>0.0</td>\n",
       "      <td>0.0</td>\n",
       "      <td>0.0</td>\n",
       "      <td>0.0</td>\n",
       "      <td>0.0</td>\n",
       "      <td>0.0</td>\n",
       "      <td>0.0</td>\n",
       "      <td>0.0</td>\n",
       "      <td>0.0</td>\n",
       "    </tr>\n",
       "    <tr>\n",
       "      <th>1</th>\n",
       "      <td>0.0</td>\n",
       "      <td>0.0</td>\n",
       "      <td>0.0</td>\n",
       "      <td>0.0</td>\n",
       "      <td>0.0</td>\n",
       "      <td>0.0</td>\n",
       "      <td>0.0</td>\n",
       "      <td>0.0</td>\n",
       "      <td>0.0</td>\n",
       "      <td>0.0</td>\n",
       "      <td>...</td>\n",
       "      <td>0.0</td>\n",
       "      <td>0.0</td>\n",
       "      <td>0.0</td>\n",
       "      <td>0.0</td>\n",
       "      <td>0.0</td>\n",
       "      <td>0.0</td>\n",
       "      <td>0.0</td>\n",
       "      <td>0.0</td>\n",
       "      <td>0.0</td>\n",
       "      <td>0.0</td>\n",
       "    </tr>\n",
       "    <tr>\n",
       "      <th>2</th>\n",
       "      <td>0.0</td>\n",
       "      <td>0.0</td>\n",
       "      <td>0.0</td>\n",
       "      <td>0.0</td>\n",
       "      <td>0.0</td>\n",
       "      <td>0.0</td>\n",
       "      <td>0.0</td>\n",
       "      <td>0.0</td>\n",
       "      <td>0.0</td>\n",
       "      <td>0.0</td>\n",
       "      <td>...</td>\n",
       "      <td>0.0</td>\n",
       "      <td>0.0</td>\n",
       "      <td>0.0</td>\n",
       "      <td>0.0</td>\n",
       "      <td>0.0</td>\n",
       "      <td>0.0</td>\n",
       "      <td>0.0</td>\n",
       "      <td>0.0</td>\n",
       "      <td>0.0</td>\n",
       "      <td>0.0</td>\n",
       "    </tr>\n",
       "    <tr>\n",
       "      <th>3</th>\n",
       "      <td>0.0</td>\n",
       "      <td>0.0</td>\n",
       "      <td>0.0</td>\n",
       "      <td>0.0</td>\n",
       "      <td>0.0</td>\n",
       "      <td>0.0</td>\n",
       "      <td>0.0</td>\n",
       "      <td>0.0</td>\n",
       "      <td>0.0</td>\n",
       "      <td>0.0</td>\n",
       "      <td>...</td>\n",
       "      <td>0.0</td>\n",
       "      <td>0.0</td>\n",
       "      <td>0.0</td>\n",
       "      <td>0.0</td>\n",
       "      <td>0.0</td>\n",
       "      <td>0.0</td>\n",
       "      <td>0.0</td>\n",
       "      <td>0.0</td>\n",
       "      <td>0.0</td>\n",
       "      <td>0.0</td>\n",
       "    </tr>\n",
       "    <tr>\n",
       "      <th>4</th>\n",
       "      <td>0.0</td>\n",
       "      <td>0.0</td>\n",
       "      <td>0.0</td>\n",
       "      <td>0.0</td>\n",
       "      <td>0.0</td>\n",
       "      <td>0.0</td>\n",
       "      <td>0.0</td>\n",
       "      <td>0.0</td>\n",
       "      <td>0.0</td>\n",
       "      <td>0.0</td>\n",
       "      <td>...</td>\n",
       "      <td>0.0</td>\n",
       "      <td>0.0</td>\n",
       "      <td>0.0</td>\n",
       "      <td>0.0</td>\n",
       "      <td>0.0</td>\n",
       "      <td>0.0</td>\n",
       "      <td>0.0</td>\n",
       "      <td>0.0</td>\n",
       "      <td>0.0</td>\n",
       "      <td>0.0</td>\n",
       "    </tr>\n",
       "  </tbody>\n",
       "</table>\n",
       "<p>5 rows × 8709 columns</p>\n",
       "</div>"
      ],
      "text/plain": [
       "    00  000  000pes  008704050406  0089  0121  01223585236  01223585334  \\\n",
       "0  0.0  0.0     0.0           0.0   0.0   0.0          0.0          0.0   \n",
       "1  0.0  0.0     0.0           0.0   0.0   0.0          0.0          0.0   \n",
       "2  0.0  0.0     0.0           0.0   0.0   0.0          0.0          0.0   \n",
       "3  0.0  0.0     0.0           0.0   0.0   0.0          0.0          0.0   \n",
       "4  0.0  0.0     0.0           0.0   0.0   0.0          0.0          0.0   \n",
       "\n",
       "   0125698789   02  ...  zhong  zindgi  zoe  zogtorius  zoom  zouk  zyada  \\\n",
       "0         0.0  0.0  ...    0.0     0.0  0.0        0.0   0.0   0.0    0.0   \n",
       "1         0.0  0.0  ...    0.0     0.0  0.0        0.0   0.0   0.0    0.0   \n",
       "2         0.0  0.0  ...    0.0     0.0  0.0        0.0   0.0   0.0    0.0   \n",
       "3         0.0  0.0  ...    0.0     0.0  0.0        0.0   0.0   0.0    0.0   \n",
       "4         0.0  0.0  ...    0.0     0.0  0.0        0.0   0.0   0.0    0.0   \n",
       "\n",
       "    èn   ú1  〨ud  \n",
       "0  0.0  0.0  0.0  \n",
       "1  0.0  0.0  0.0  \n",
       "2  0.0  0.0  0.0  \n",
       "3  0.0  0.0  0.0  \n",
       "4  0.0  0.0  0.0  \n",
       "\n",
       "[5 rows x 8709 columns]"
      ]
     },
     "execution_count": 50,
     "metadata": {},
     "output_type": "execute_result"
    }
   ],
   "source": [
    "#5) Преобразуйте все сообщения в вектора TF-IDF. Вам поможет следующий код:\n",
    "\n",
    "from sklearn.feature_extraction.text import TfidfVectorizer\n",
    "\n",
    "tfidf = TfidfVectorizer()\n",
    "tfidf_matrix = tfidf.fit_transform(df.Message)\n",
    "names = tfidf.get_feature_names()\n",
    "tfidf_matrix = pd.DataFrame(tfidf_matrix.toarray(), columns=names)\n",
    "tfidf_matrix.head()"
   ]
  },
  {
   "cell_type": "code",
   "execution_count": 51,
   "id": "a51d7eb7",
   "metadata": {
    "scrolled": true
   },
   "outputs": [],
   "source": [
    "# Разделим данные на тестовые и тренировочные 30\\70 \n",
    "from sklearn.linear_model import LogisticRegression\n",
    "from sklearn.model_selection import train_test_split\n",
    "X_train, X_test, y_train, y_test = train_test_split(tfidf_matrix, spam['Category'], test_size=0.30, random_state=42)"
   ]
  },
  {
   "cell_type": "code",
   "execution_count": 52,
   "id": "9e60b973",
   "metadata": {},
   "outputs": [],
   "source": [
    "# Построим модель логистической регресии, установим random_state=42\n",
    "lr = LogisticRegression(random_state=42)"
   ]
  },
  {
   "cell_type": "code",
   "execution_count": 53,
   "id": "ea259cac",
   "metadata": {},
   "outputs": [
    {
     "data": {
      "text/plain": [
       "LogisticRegression(random_state=42)"
      ]
     },
     "execution_count": 53,
     "metadata": {},
     "output_type": "execute_result"
    }
   ],
   "source": [
    "lr.fit(X_train, y_train) #Обучаем модель на тренировочных данных\n"
   ]
  },
  {
   "cell_type": "code",
   "execution_count": 54,
   "id": "84a5b75b",
   "metadata": {},
   "outputs": [
    {
     "data": {
      "text/plain": [
       "array(['ham', 'ham', 'ham', ..., 'ham', 'spam', 'ham'], dtype=object)"
      ]
     },
     "execution_count": 54,
     "metadata": {},
     "output_type": "execute_result"
    }
   ],
   "source": [
    "lr.predict(X_test) #Строим прогноз на тестовых данных\n"
   ]
  },
  {
   "cell_type": "code",
   "execution_count": 55,
   "id": "7e8b26f3",
   "metadata": {},
   "outputs": [
    {
     "data": {
      "text/plain": [
       "0.9635167464114832"
      ]
     },
     "execution_count": 55,
     "metadata": {},
     "output_type": "execute_result"
    }
   ],
   "source": [
    "# Оценим ее точность на тестовых данных\n",
    "from sklearn.metrics import accuracy_score\n",
    "accuracy_score(y_test, lr.predict(X_test))"
   ]
  },
  {
   "cell_type": "markdown",
   "id": "4aac242c",
   "metadata": {},
   "source": [
    "<mark>что доля правильных ответов чуть более 0.95</mark>\n"
   ]
  },
  {
   "cell_type": "code",
   "execution_count": 58,
   "id": "c93a0a42",
   "metadata": {},
   "outputs": [
    {
     "data": {
      "text/plain": [
       "array([[1446,    2],\n",
       "       [  59,  165]], dtype=int64)"
      ]
     },
     "execution_count": 58,
     "metadata": {},
     "output_type": "execute_result"
    }
   ],
   "source": [
    "# Опишем результаты при помощи confusion_matrix\n",
    "from sklearn.metrics import confusion_matrix\n",
    "cnf_matrix = confusion_matrix(y_test, lr.predict(X_test))\n",
    "cnf_matrix"
   ]
  },
  {
   "cell_type": "markdown",
   "id": "51d8a538",
   "metadata": {},
   "source": [
    "Описание матрицы ошибок: True Positive: мы предсказали 'ham' верно в 1446 случаях.\n",
    "\n",
    "True Negative: мы предсказали 'spam' в 165случаях\n",
    "\n",
    "False Positive: мы предсказали что это 'ham', но на самом деле было 'spam' в 59 случаях.\n",
    "\n",
    "False Negative: мы предсказали что это 'spam', но на самом деле было 'ham' в 2 случаях."
   ]
  },
  {
   "cell_type": "code",
   "execution_count": 70,
   "id": "d50333fe",
   "metadata": {},
   "outputs": [
    {
     "data": {
      "text/html": [
       "<div>\n",
       "<style scoped>\n",
       "    .dataframe tbody tr th:only-of-type {\n",
       "        vertical-align: middle;\n",
       "    }\n",
       "\n",
       "    .dataframe tbody tr th {\n",
       "        vertical-align: top;\n",
       "    }\n",
       "\n",
       "    .dataframe thead th {\n",
       "        text-align: right;\n",
       "    }\n",
       "</style>\n",
       "<table border=\"1\" class=\"dataframe\">\n",
       "  <thead>\n",
       "    <tr style=\"text-align: right;\">\n",
       "      <th></th>\n",
       "      <th>original</th>\n",
       "    </tr>\n",
       "  </thead>\n",
       "  <tbody>\n",
       "    <tr>\n",
       "      <th>3245</th>\n",
       "      <td>ham</td>\n",
       "    </tr>\n",
       "    <tr>\n",
       "      <th>944</th>\n",
       "      <td>ham</td>\n",
       "    </tr>\n",
       "    <tr>\n",
       "      <th>1044</th>\n",
       "      <td>ham</td>\n",
       "    </tr>\n",
       "    <tr>\n",
       "      <th>2484</th>\n",
       "      <td>ham</td>\n",
       "    </tr>\n",
       "    <tr>\n",
       "      <th>812</th>\n",
       "      <td>ham</td>\n",
       "    </tr>\n",
       "    <tr>\n",
       "      <th>...</th>\n",
       "      <td>...</td>\n",
       "    </tr>\n",
       "    <tr>\n",
       "      <th>2505</th>\n",
       "      <td>ham</td>\n",
       "    </tr>\n",
       "    <tr>\n",
       "      <th>2525</th>\n",
       "      <td>spam</td>\n",
       "    </tr>\n",
       "    <tr>\n",
       "      <th>4975</th>\n",
       "      <td>ham</td>\n",
       "    </tr>\n",
       "    <tr>\n",
       "      <th>650</th>\n",
       "      <td>spam</td>\n",
       "    </tr>\n",
       "    <tr>\n",
       "      <th>4463</th>\n",
       "      <td>ham</td>\n",
       "    </tr>\n",
       "  </tbody>\n",
       "</table>\n",
       "<p>1672 rows × 1 columns</p>\n",
       "</div>"
      ],
      "text/plain": [
       "     original\n",
       "3245      ham\n",
       "944       ham\n",
       "1044      ham\n",
       "2484      ham\n",
       "812       ham\n",
       "...       ...\n",
       "2505      ham\n",
       "2525     spam\n",
       "4975      ham\n",
       "650      spam\n",
       "4463      ham\n",
       "\n",
       "[1672 rows x 1 columns]"
      ]
     },
     "execution_count": 70,
     "metadata": {},
     "output_type": "execute_result"
    }
   ],
   "source": [
    "# Построим датафрейм, который будет содержать все исходные тексты сообщений, классифицированные неправильно (с указанием фактического и предсказанного).\n",
    "Original = pd.DataFrame(y_test) #Создаем DF с оригинальными (фактическими) тестовыми данными\n",
    "Original.columns = ['original']\n",
    "Original"
   ]
  },
  {
   "cell_type": "code",
   "execution_count": 71,
   "id": "92f69cc6",
   "metadata": {},
   "outputs": [
    {
     "data": {
      "text/html": [
       "<div>\n",
       "<style scoped>\n",
       "    .dataframe tbody tr th:only-of-type {\n",
       "        vertical-align: middle;\n",
       "    }\n",
       "\n",
       "    .dataframe tbody tr th {\n",
       "        vertical-align: top;\n",
       "    }\n",
       "\n",
       "    .dataframe thead th {\n",
       "        text-align: right;\n",
       "    }\n",
       "</style>\n",
       "<table border=\"1\" class=\"dataframe\">\n",
       "  <thead>\n",
       "    <tr style=\"text-align: right;\">\n",
       "      <th></th>\n",
       "      <th>prediction</th>\n",
       "    </tr>\n",
       "  </thead>\n",
       "  <tbody>\n",
       "    <tr>\n",
       "      <th>0</th>\n",
       "      <td>ham</td>\n",
       "    </tr>\n",
       "    <tr>\n",
       "      <th>1</th>\n",
       "      <td>ham</td>\n",
       "    </tr>\n",
       "    <tr>\n",
       "      <th>2</th>\n",
       "      <td>ham</td>\n",
       "    </tr>\n",
       "    <tr>\n",
       "      <th>3</th>\n",
       "      <td>ham</td>\n",
       "    </tr>\n",
       "    <tr>\n",
       "      <th>4</th>\n",
       "      <td>ham</td>\n",
       "    </tr>\n",
       "    <tr>\n",
       "      <th>...</th>\n",
       "      <td>...</td>\n",
       "    </tr>\n",
       "    <tr>\n",
       "      <th>1667</th>\n",
       "      <td>ham</td>\n",
       "    </tr>\n",
       "    <tr>\n",
       "      <th>1668</th>\n",
       "      <td>spam</td>\n",
       "    </tr>\n",
       "    <tr>\n",
       "      <th>1669</th>\n",
       "      <td>ham</td>\n",
       "    </tr>\n",
       "    <tr>\n",
       "      <th>1670</th>\n",
       "      <td>spam</td>\n",
       "    </tr>\n",
       "    <tr>\n",
       "      <th>1671</th>\n",
       "      <td>ham</td>\n",
       "    </tr>\n",
       "  </tbody>\n",
       "</table>\n",
       "<p>1672 rows × 1 columns</p>\n",
       "</div>"
      ],
      "text/plain": [
       "     prediction\n",
       "0           ham\n",
       "1           ham\n",
       "2           ham\n",
       "3           ham\n",
       "4           ham\n",
       "...         ...\n",
       "1667        ham\n",
       "1668       spam\n",
       "1669        ham\n",
       "1670       spam\n",
       "1671        ham\n",
       "\n",
       "[1672 rows x 1 columns]"
      ]
     },
     "execution_count": 71,
     "metadata": {},
     "output_type": "execute_result"
    }
   ],
   "source": [
    "Prediction = pd.DataFrame(lr.predict(X_test)) #Создаем DF с предсказанными данными\n",
    "Prediction.columns = ['prediction']\n",
    "Prediction"
   ]
  },
  {
   "cell_type": "code",
   "execution_count": 72,
   "id": "5e1d7cca",
   "metadata": {},
   "outputs": [
    {
     "data": {
      "text/html": [
       "<div>\n",
       "<style scoped>\n",
       "    .dataframe tbody tr th:only-of-type {\n",
       "        vertical-align: middle;\n",
       "    }\n",
       "\n",
       "    .dataframe tbody tr th {\n",
       "        vertical-align: top;\n",
       "    }\n",
       "\n",
       "    .dataframe thead th {\n",
       "        text-align: right;\n",
       "    }\n",
       "</style>\n",
       "<table border=\"1\" class=\"dataframe\">\n",
       "  <thead>\n",
       "    <tr style=\"text-align: right;\">\n",
       "      <th></th>\n",
       "      <th>original</th>\n",
       "      <th>Category</th>\n",
       "      <th>Message</th>\n",
       "    </tr>\n",
       "  </thead>\n",
       "  <tbody>\n",
       "    <tr>\n",
       "      <th>3245</th>\n",
       "      <td>ham</td>\n",
       "      <td>ham</td>\n",
       "      <td>squeeeeeze christmas hug u lik frndshp den hug...</td>\n",
       "    </tr>\n",
       "    <tr>\n",
       "      <th>944</th>\n",
       "      <td>ham</td>\n",
       "      <td>ham</td>\n",
       "      <td>also sorta blown couple time recently id rathe...</td>\n",
       "    </tr>\n",
       "    <tr>\n",
       "      <th>1044</th>\n",
       "      <td>ham</td>\n",
       "      <td>ham</td>\n",
       "      <td>mmm thats better got roast b better drink 2 go...</td>\n",
       "    </tr>\n",
       "    <tr>\n",
       "      <th>2484</th>\n",
       "      <td>ham</td>\n",
       "      <td>ham</td>\n",
       "      <td>mm kanji dont eat anything heavy ok</td>\n",
       "    </tr>\n",
       "    <tr>\n",
       "      <th>812</th>\n",
       "      <td>ham</td>\n",
       "      <td>ham</td>\n",
       "      <td>ring come guy costume gift future yowifes hint...</td>\n",
       "    </tr>\n",
       "    <tr>\n",
       "      <th>...</th>\n",
       "      <td>...</td>\n",
       "      <td>...</td>\n",
       "      <td>...</td>\n",
       "    </tr>\n",
       "    <tr>\n",
       "      <th>2505</th>\n",
       "      <td>ham</td>\n",
       "      <td>ham</td>\n",
       "      <td>hello boytoy made home constant thought love h...</td>\n",
       "    </tr>\n",
       "    <tr>\n",
       "      <th>2525</th>\n",
       "      <td>spam</td>\n",
       "      <td>spam</td>\n",
       "      <td>free entry 250 weekly comp send word win 80086...</td>\n",
       "    </tr>\n",
       "    <tr>\n",
       "      <th>4975</th>\n",
       "      <td>ham</td>\n",
       "      <td>ham</td>\n",
       "      <td>aiyo u poor thing u dun wan 2 eat u bathe already</td>\n",
       "    </tr>\n",
       "    <tr>\n",
       "      <th>650</th>\n",
       "      <td>spam</td>\n",
       "      <td>spam</td>\n",
       "      <td>1 000 cash 2 000 prize claim call09050000327 c...</td>\n",
       "    </tr>\n",
       "    <tr>\n",
       "      <th>4463</th>\n",
       "      <td>ham</td>\n",
       "      <td>ham</td>\n",
       "      <td>sorry flaked last night shit seriously goin ro...</td>\n",
       "    </tr>\n",
       "  </tbody>\n",
       "</table>\n",
       "<p>1672 rows × 3 columns</p>\n",
       "</div>"
      ],
      "text/plain": [
       "     original Category                                            Message\n",
       "3245      ham      ham  squeeeeeze christmas hug u lik frndshp den hug...\n",
       "944       ham      ham  also sorta blown couple time recently id rathe...\n",
       "1044      ham      ham  mmm thats better got roast b better drink 2 go...\n",
       "2484      ham      ham                mm kanji dont eat anything heavy ok\n",
       "812       ham      ham  ring come guy costume gift future yowifes hint...\n",
       "...       ...      ...                                                ...\n",
       "2505      ham      ham  hello boytoy made home constant thought love h...\n",
       "2525     spam     spam  free entry 250 weekly comp send word win 80086...\n",
       "4975      ham      ham  aiyo u poor thing u dun wan 2 eat u bathe already\n",
       "650      spam     spam  1 000 cash 2 000 prize claim call09050000327 c...\n",
       "4463      ham      ham  sorry flaked last night shit seriously goin ro...\n",
       "\n",
       "[1672 rows x 3 columns]"
      ]
     },
     "execution_count": 72,
     "metadata": {},
     "output_type": "execute_result"
    }
   ],
   "source": [
    "Result = Original.join(spam, how='left') #Джойним таблицу c оригинальными (фактическими) тестовыми данными к таблице с сообщениями \n",
    "Result"
   ]
  },
  {
   "cell_type": "code",
   "execution_count": 73,
   "id": "3d76fc74",
   "metadata": {},
   "outputs": [
    {
     "data": {
      "text/html": [
       "<div>\n",
       "<style scoped>\n",
       "    .dataframe tbody tr th:only-of-type {\n",
       "        vertical-align: middle;\n",
       "    }\n",
       "\n",
       "    .dataframe tbody tr th {\n",
       "        vertical-align: top;\n",
       "    }\n",
       "\n",
       "    .dataframe thead th {\n",
       "        text-align: right;\n",
       "    }\n",
       "</style>\n",
       "<table border=\"1\" class=\"dataframe\">\n",
       "  <thead>\n",
       "    <tr style=\"text-align: right;\">\n",
       "      <th></th>\n",
       "      <th>original</th>\n",
       "      <th>Message</th>\n",
       "    </tr>\n",
       "  </thead>\n",
       "  <tbody>\n",
       "    <tr>\n",
       "      <th>0</th>\n",
       "      <td>ham</td>\n",
       "      <td>squeeeeeze christmas hug u lik frndshp den hug...</td>\n",
       "    </tr>\n",
       "    <tr>\n",
       "      <th>1</th>\n",
       "      <td>ham</td>\n",
       "      <td>also sorta blown couple time recently id rathe...</td>\n",
       "    </tr>\n",
       "    <tr>\n",
       "      <th>2</th>\n",
       "      <td>ham</td>\n",
       "      <td>mmm thats better got roast b better drink 2 go...</td>\n",
       "    </tr>\n",
       "    <tr>\n",
       "      <th>3</th>\n",
       "      <td>ham</td>\n",
       "      <td>mm kanji dont eat anything heavy ok</td>\n",
       "    </tr>\n",
       "    <tr>\n",
       "      <th>4</th>\n",
       "      <td>ham</td>\n",
       "      <td>ring come guy costume gift future yowifes hint...</td>\n",
       "    </tr>\n",
       "  </tbody>\n",
       "</table>\n",
       "</div>"
      ],
      "text/plain": [
       "  original                                            Message\n",
       "0      ham  squeeeeeze christmas hug u lik frndshp den hug...\n",
       "1      ham  also sorta blown couple time recently id rathe...\n",
       "2      ham  mmm thats better got roast b better drink 2 go...\n",
       "3      ham                mm kanji dont eat anything heavy ok\n",
       "4      ham  ring come guy costume gift future yowifes hint..."
      ]
     },
     "execution_count": 73,
     "metadata": {},
     "output_type": "execute_result"
    }
   ],
   "source": [
    "Result = Result.drop(['Category'], axis=1) #Удаляем столбец с исходной категорией\n",
    "Result = Result.reset_index(drop = True) #Сбрасываем индекс\n",
    "Result.head()"
   ]
  },
  {
   "cell_type": "code",
   "execution_count": 74,
   "id": "345b38f7",
   "metadata": {},
   "outputs": [
    {
     "data": {
      "text/html": [
       "<div>\n",
       "<style scoped>\n",
       "    .dataframe tbody tr th:only-of-type {\n",
       "        vertical-align: middle;\n",
       "    }\n",
       "\n",
       "    .dataframe tbody tr th {\n",
       "        vertical-align: top;\n",
       "    }\n",
       "\n",
       "    .dataframe thead th {\n",
       "        text-align: right;\n",
       "    }\n",
       "</style>\n",
       "<table border=\"1\" class=\"dataframe\">\n",
       "  <thead>\n",
       "    <tr style=\"text-align: right;\">\n",
       "      <th></th>\n",
       "      <th>original</th>\n",
       "      <th>Message</th>\n",
       "      <th>prediction</th>\n",
       "    </tr>\n",
       "  </thead>\n",
       "  <tbody>\n",
       "    <tr>\n",
       "      <th>0</th>\n",
       "      <td>ham</td>\n",
       "      <td>squeeeeeze christmas hug u lik frndshp den hug...</td>\n",
       "      <td>ham</td>\n",
       "    </tr>\n",
       "    <tr>\n",
       "      <th>1</th>\n",
       "      <td>ham</td>\n",
       "      <td>also sorta blown couple time recently id rathe...</td>\n",
       "      <td>ham</td>\n",
       "    </tr>\n",
       "    <tr>\n",
       "      <th>2</th>\n",
       "      <td>ham</td>\n",
       "      <td>mmm thats better got roast b better drink 2 go...</td>\n",
       "      <td>ham</td>\n",
       "    </tr>\n",
       "    <tr>\n",
       "      <th>3</th>\n",
       "      <td>ham</td>\n",
       "      <td>mm kanji dont eat anything heavy ok</td>\n",
       "      <td>ham</td>\n",
       "    </tr>\n",
       "    <tr>\n",
       "      <th>4</th>\n",
       "      <td>ham</td>\n",
       "      <td>ring come guy costume gift future yowifes hint...</td>\n",
       "      <td>ham</td>\n",
       "    </tr>\n",
       "    <tr>\n",
       "      <th>...</th>\n",
       "      <td>...</td>\n",
       "      <td>...</td>\n",
       "      <td>...</td>\n",
       "    </tr>\n",
       "    <tr>\n",
       "      <th>1667</th>\n",
       "      <td>ham</td>\n",
       "      <td>hello boytoy made home constant thought love h...</td>\n",
       "      <td>ham</td>\n",
       "    </tr>\n",
       "    <tr>\n",
       "      <th>1668</th>\n",
       "      <td>spam</td>\n",
       "      <td>free entry 250 weekly comp send word win 80086...</td>\n",
       "      <td>spam</td>\n",
       "    </tr>\n",
       "    <tr>\n",
       "      <th>1669</th>\n",
       "      <td>ham</td>\n",
       "      <td>aiyo u poor thing u dun wan 2 eat u bathe already</td>\n",
       "      <td>ham</td>\n",
       "    </tr>\n",
       "    <tr>\n",
       "      <th>1670</th>\n",
       "      <td>spam</td>\n",
       "      <td>1 000 cash 2 000 prize claim call09050000327 c...</td>\n",
       "      <td>spam</td>\n",
       "    </tr>\n",
       "    <tr>\n",
       "      <th>1671</th>\n",
       "      <td>ham</td>\n",
       "      <td>sorry flaked last night shit seriously goin ro...</td>\n",
       "      <td>ham</td>\n",
       "    </tr>\n",
       "  </tbody>\n",
       "</table>\n",
       "<p>1672 rows × 3 columns</p>\n",
       "</div>"
      ],
      "text/plain": [
       "     original                                            Message prediction\n",
       "0         ham  squeeeeeze christmas hug u lik frndshp den hug...        ham\n",
       "1         ham  also sorta blown couple time recently id rathe...        ham\n",
       "2         ham  mmm thats better got roast b better drink 2 go...        ham\n",
       "3         ham                mm kanji dont eat anything heavy ok        ham\n",
       "4         ham  ring come guy costume gift future yowifes hint...        ham\n",
       "...       ...                                                ...        ...\n",
       "1667      ham  hello boytoy made home constant thought love h...        ham\n",
       "1668     spam  free entry 250 weekly comp send word win 80086...       spam\n",
       "1669      ham  aiyo u poor thing u dun wan 2 eat u bathe already        ham\n",
       "1670     spam  1 000 cash 2 000 prize claim call09050000327 c...       spam\n",
       "1671      ham  sorry flaked last night shit seriously goin ro...        ham\n",
       "\n",
       "[1672 rows x 3 columns]"
      ]
     },
     "execution_count": 74,
     "metadata": {},
     "output_type": "execute_result"
    }
   ],
   "source": [
    "Result1 = pd.concat([Result, Prediction], axis = 1) #Делаем конкатенацию датафреймов\n",
    "Result1"
   ]
  },
  {
   "cell_type": "code",
   "execution_count": 76,
   "id": "8c7301de",
   "metadata": {
    "scrolled": true
   },
   "outputs": [
    {
     "data": {
      "text/html": [
       "<div>\n",
       "<style scoped>\n",
       "    .dataframe tbody tr th:only-of-type {\n",
       "        vertical-align: middle;\n",
       "    }\n",
       "\n",
       "    .dataframe tbody tr th {\n",
       "        vertical-align: top;\n",
       "    }\n",
       "\n",
       "    .dataframe thead th {\n",
       "        text-align: right;\n",
       "    }\n",
       "</style>\n",
       "<table border=\"1\" class=\"dataframe\">\n",
       "  <thead>\n",
       "    <tr style=\"text-align: right;\">\n",
       "      <th></th>\n",
       "      <th>original</th>\n",
       "      <th>Message</th>\n",
       "      <th>prediction</th>\n",
       "    </tr>\n",
       "  </thead>\n",
       "  <tbody>\n",
       "    <tr>\n",
       "      <th>40</th>\n",
       "      <td>spam</td>\n",
       "      <td>reminder downloaded content already paid goto ...</td>\n",
       "      <td>ham</td>\n",
       "    </tr>\n",
       "    <tr>\n",
       "      <th>47</th>\n",
       "      <td>spam</td>\n",
       "      <td>guess somebody know secretly fancy wanna find ...</td>\n",
       "      <td>ham</td>\n",
       "    </tr>\n",
       "    <tr>\n",
       "      <th>74</th>\n",
       "      <td>spam</td>\n",
       "      <td>oh god found number glad text back xafter msg ...</td>\n",
       "      <td>ham</td>\n",
       "    </tr>\n",
       "    <tr>\n",
       "      <th>84</th>\n",
       "      <td>spam</td>\n",
       "      <td>next amazing xxx picsfree1 video sent enjoy on...</td>\n",
       "      <td>ham</td>\n",
       "    </tr>\n",
       "    <tr>\n",
       "      <th>119</th>\n",
       "      <td>spam</td>\n",
       "      <td>rock yr chik get 100 filthy film xxx pic yr ph...</td>\n",
       "      <td>ham</td>\n",
       "    </tr>\n",
       "    <tr>\n",
       "      <th>...</th>\n",
       "      <td>...</td>\n",
       "      <td>...</td>\n",
       "      <td>...</td>\n",
       "    </tr>\n",
       "    <tr>\n",
       "      <th>1509</th>\n",
       "      <td>spam</td>\n",
       "      <td>unique enough find 30th august www areyouuniqu...</td>\n",
       "      <td>ham</td>\n",
       "    </tr>\n",
       "    <tr>\n",
       "      <th>1525</th>\n",
       "      <td>spam</td>\n",
       "      <td>freemsg hi baby wow got new cam moby wanna c h...</td>\n",
       "      <td>ham</td>\n",
       "    </tr>\n",
       "    <tr>\n",
       "      <th>1567</th>\n",
       "      <td>spam</td>\n",
       "      <td>important customer service announcement premier</td>\n",
       "      <td>ham</td>\n",
       "    </tr>\n",
       "    <tr>\n",
       "      <th>1576</th>\n",
       "      <td>ham</td>\n",
       "      <td>free call</td>\n",
       "      <td>spam</td>\n",
       "    </tr>\n",
       "    <tr>\n",
       "      <th>1586</th>\n",
       "      <td>spam</td>\n",
       "      <td>sm ac blind date 4u rodds1 21 aberdeen united ...</td>\n",
       "      <td>ham</td>\n",
       "    </tr>\n",
       "  </tbody>\n",
       "</table>\n",
       "<p>61 rows × 3 columns</p>\n",
       "</div>"
      ],
      "text/plain": [
       "     original                                            Message prediction\n",
       "40       spam  reminder downloaded content already paid goto ...        ham\n",
       "47       spam  guess somebody know secretly fancy wanna find ...        ham\n",
       "74       spam  oh god found number glad text back xafter msg ...        ham\n",
       "84       spam  next amazing xxx picsfree1 video sent enjoy on...        ham\n",
       "119      spam  rock yr chik get 100 filthy film xxx pic yr ph...        ham\n",
       "...       ...                                                ...        ...\n",
       "1509     spam  unique enough find 30th august www areyouuniqu...        ham\n",
       "1525     spam  freemsg hi baby wow got new cam moby wanna c h...        ham\n",
       "1567     spam    important customer service announcement premier        ham\n",
       "1576      ham                                          free call       spam\n",
       "1586     spam  sm ac blind date 4u rodds1 21 aberdeen united ...        ham\n",
       "\n",
       "[61 rows x 3 columns]"
      ]
     },
     "execution_count": 76,
     "metadata": {},
     "output_type": "execute_result"
    }
   ],
   "source": [
    "# Оставляем только строки отличающиеся предсказанным и исходным значением категории\n",
    "Result1 = Result1[Result1.original != Result1.prediction]\n",
    "Result1"
   ]
  },
  {
   "cell_type": "code",
   "execution_count": 77,
   "id": "58420c29",
   "metadata": {},
   "outputs": [
    {
     "data": {
      "text/plain": [
       "0.03648325358851675"
      ]
     },
     "execution_count": 77,
     "metadata": {},
     "output_type": "execute_result"
    }
   ],
   "source": [
    "61/1672"
   ]
  },
  {
   "cell_type": "markdown",
   "id": "d9eaef7f",
   "metadata": {},
   "source": [
    "В 3х % случаев неверно предсказали резутьтат"
   ]
  },
  {
   "cell_type": "code",
   "execution_count": null,
   "id": "adb6dedb",
   "metadata": {},
   "outputs": [],
   "source": []
  },
  {
   "cell_type": "code",
   "execution_count": null,
   "id": "70616002",
   "metadata": {},
   "outputs": [],
   "source": []
  },
  {
   "cell_type": "code",
   "execution_count": null,
   "id": "37848473",
   "metadata": {},
   "outputs": [],
   "source": []
  },
  {
   "cell_type": "code",
   "execution_count": null,
   "id": "61980cd1",
   "metadata": {},
   "outputs": [],
   "source": []
  },
  {
   "cell_type": "code",
   "execution_count": null,
   "id": "43941ffc",
   "metadata": {},
   "outputs": [],
   "source": []
  },
  {
   "cell_type": "code",
   "execution_count": null,
   "id": "c21f53ab",
   "metadata": {},
   "outputs": [],
   "source": []
  },
  {
   "cell_type": "code",
   "execution_count": null,
   "id": "0bd6b74f",
   "metadata": {},
   "outputs": [],
   "source": []
  },
  {
   "cell_type": "code",
   "execution_count": null,
   "id": "f21d502a",
   "metadata": {},
   "outputs": [],
   "source": []
  },
  {
   "cell_type": "code",
   "execution_count": null,
   "id": "9c379dee",
   "metadata": {},
   "outputs": [],
   "source": []
  },
  {
   "cell_type": "code",
   "execution_count": 32,
   "id": "5e36a490",
   "metadata": {},
   "outputs": [
    {
     "name": "stdout",
     "output_type": "stream",
     "text": [
      "101 99\n",
      "10199\n"
     ]
    }
   ],
   "source": [
    "class Money():\n",
    "    def __init__(self, dollars=0, cents=0):\n",
    "        self.total_cents = 100 * dollars  + cents\n",
    "\n",
    "    \n",
    "\n",
    "    @property\n",
    "    def dollars(self):\n",
    "        return self.total_cents // 100\n",
    "\n",
    "    @dollars.setter\n",
    "    def dollars(self, value):\n",
    "        if isinstance(value, int ) and value >= 0:\n",
    "            self.total_cents = 100 * value + (self.total_cents % 100)\n",
    "        else:\n",
    "            print(\"Error dollars\")\n",
    "\n",
    "    @property\n",
    "    def cents(self):\n",
    "        return self.total_cents % 100\n",
    "\n",
    "    @cents.setter\n",
    "    def cents(self, value):\n",
    "        if isinstance(value, int) and 0 <= value < 100:\n",
    "            self.total_cents = 100*(self.total_cents // 100) + value\n",
    "        else:\n",
    "            print(\"Error cents\")\n",
    "\n",
    "    def __str__(self):\n",
    "        print(f\"Ваше состояние составляет {self.total_cents // 100} долларов {self.total_cents % 100} центов\")\n",
    "        \n",
    "\n",
    "\"\"\"Создайте класс Money, у которого есть:\n",
    "конструктор __init__, принимающий 2 аргумента: dollars, cents. \n",
    "По входным аргументам вам необходимо создать атрибут экземпляра total_cents. \n",
    "свойство геттер dollars, которое возвращает количество имеющихся долларов;\n",
    "свойство сеттер dollars, которое принимает целое неотрицательное число - \n",
    "количество долларов и устанавливает при помощи него новое значение в атрибут экземпляра total_cents, \n",
    "при этом значение центов должно сохранятся. В случае, если в сеттер передано число, не удовлетворяющее условию, \n",
    "нужно печатать на экран сообщение \"Error dollars\";\n",
    "свойство геттер cents, которое возвращает количество имеющихся центов;\n",
    "свойство сеттер cents, которое принимает целое неотрицательное число меньшее 100 - количество центов и устанавливает \n",
    "при помощи него новое значение в атрибут экземпляра total_cents, при этом значение долларов должно сохранятся. \n",
    "В случае, если в сеттер передано число, не удовлетворяющее условию, нужно печатать на экран сообщение \"Error cents\";\n",
    "\n",
    "метод __str__ (информация по данному методу), который возвращает строку вида \"Ваше состояние составляет {dollars} \n",
    "долларов {cents} центов\". Для нахождения долларов и центов в методе __str__ пользуйтесь свойствами\n",
    "В экземпляр класса кроме атрибута total_cents сохранять ничего не нужно!\"\"\"\n",
    "\n",
    "Bill = Money(101, 99)\n",
    "#print(Bill)  # Ваше состояние составляет 101 долларов 99 центов\n",
    "print(Bill.dollars, Bill.cents)  # 101 99\n",
    "print(Bill.total_cents) # 10199\n"
   ]
  },
  {
   "cell_type": "code",
   "execution_count": 33,
   "id": "f425452c",
   "metadata": {},
   "outputs": [
    {
     "data": {
      "text/plain": [
       "(666, 12)"
      ]
     },
     "execution_count": 33,
     "metadata": {},
     "output_type": "execute_result"
    }
   ],
   "source": [
    "Bill.dollars = 666\n",
    "#print(Bill)  # Ваше состояние составляет 666 долларов 99 центов\n",
    "Bill.cents = 12\n",
    "Bill.dollars, Bill.cents\n",
    "#print(Bill)  # Ваше состояние составляет 666 долларов 12 центов"
   ]
  },
  {
   "cell_type": "markdown",
   "id": "4f5813b2",
   "metadata": {},
   "source": [
    "Задание 2\n",
    "Реализуйте базовую модель логистической регрессии для классификации текстовых сообщений (используемые данные здесь) по признаку спама. Для этого:\n",
    "\n",
    "1) Привидите весь текст к нижнему регистру;\\\n",
    "2) Удалите мусорные символы;\\\n",
    "3) Удалите стоп-слова;\\\n",
    "4) Привидите все слова к нормальной форме;\\\n",
    "5) Преобразуйте все сообщения в вектора TF-IDF. Вам поможет следующий код:\\\n",
    "\n",
    "<b>from sklearn.feature_extraction.text import TfidfVectorizer</b>\\\n",
    "\n",
    "<b>tfidf = TfidfVectorizer()</b>\\\n",
    "<b>tfidf_matrix = tfidf.fit_transform(df.Message)</b>\\\n",
    "<b>names = tfidf.get_feature_names()</b>\\\n",
    "<b>tfidf_matrix = pd.DataFrame(tfidf_matrix.toarray(), columns=names)</b>\\\n",
    "\n",
    "Можете поэкспериментировать с параметрами TfidfVectorizer;\\\n",
    "6) Разделите данные на тестовые и тренировочные в соотношении 30/70, укажите random_state=42. Используйте train_test_split;\\\n",
    "7) Постройте модель логистической регрессии, укажите random_state=42, оцените ее точность на тестовых данных;\\\n",
    "8) Опишите результаты при помощи confusion_matrix;\\\n",
    "9) Постройте датафрейм, который будет содержать все исходные тексты сообщений, классифицированные неправильно (с указанием фактического и предсказанного).\\"
   ]
  },
  {
   "cell_type": "code",
   "execution_count": null,
   "id": "7c75435c",
   "metadata": {},
   "outputs": [],
   "source": []
  },
  {
   "cell_type": "code",
   "execution_count": null,
   "id": "23a87c01",
   "metadata": {},
   "outputs": [],
   "source": []
  },
  {
   "cell_type": "code",
   "execution_count": null,
   "id": "b213c22a",
   "metadata": {},
   "outputs": [],
   "source": []
  },
  {
   "cell_type": "code",
   "execution_count": null,
   "id": "0654add5",
   "metadata": {},
   "outputs": [],
   "source": []
  },
  {
   "cell_type": "code",
   "execution_count": null,
   "id": "3dcba9d1",
   "metadata": {},
   "outputs": [],
   "source": []
  },
  {
   "cell_type": "code",
   "execution_count": null,
   "id": "d0c1318d",
   "metadata": {},
   "outputs": [],
   "source": []
  },
  {
   "cell_type": "code",
   "execution_count": null,
   "id": "1065c3df",
   "metadata": {},
   "outputs": [],
   "source": []
  },
  {
   "cell_type": "code",
   "execution_count": null,
   "id": "d7e94d01",
   "metadata": {},
   "outputs": [],
   "source": []
  },
  {
   "cell_type": "code",
   "execution_count": null,
   "id": "ae450a81",
   "metadata": {},
   "outputs": [],
   "source": []
  },
  {
   "cell_type": "code",
   "execution_count": null,
   "id": "ef8da64a",
   "metadata": {},
   "outputs": [],
   "source": []
  },
  {
   "cell_type": "code",
   "execution_count": null,
   "id": "23321452",
   "metadata": {},
   "outputs": [],
   "source": []
  },
  {
   "cell_type": "code",
   "execution_count": null,
   "id": "e6d86681",
   "metadata": {},
   "outputs": [],
   "source": []
  }
 ],
 "metadata": {
  "kernelspec": {
   "display_name": "Python 3 (ipykernel)",
   "language": "python",
   "name": "python3"
  },
  "language_info": {
   "codemirror_mode": {
    "name": "ipython",
    "version": 3
   },
   "file_extension": ".py",
   "mimetype": "text/x-python",
   "name": "python",
   "nbconvert_exporter": "python",
   "pygments_lexer": "ipython3",
   "version": "3.9.7"
  }
 },
 "nbformat": 4,
 "nbformat_minor": 5
}
