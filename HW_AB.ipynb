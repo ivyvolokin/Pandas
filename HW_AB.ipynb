{
 "cells": [
  {
   "cell_type": "markdown",
   "id": "d4550f40",
   "metadata": {},
   "source": [
    "Задания для самостоятельного решения\n",
    "Замечание: 1 Предполагается, что для решения заданий № 1-3 будут использоваться разные тесты.\n",
    "\n",
    "Замечание: 2 Для зачета уже достаточно половины абсолютно верно решенных заданий.\n",
    "\n",
    "Если возникают сложности по ходу решения - пиште свой вопрос в общий чат в Slack. Там всегда подскажут)"
   ]
  },
  {
   "cell_type": "markdown",
   "id": "2e5b230f",
   "metadata": {},
   "source": [
    "Задание № 1 (Обязательно) Вам даны результаты проверки двух препаратов.\n",
    "Требуется:\n",
    "\n",
    "Оценить, есть ли различие в эффекте у этих пациентов?\n",
    "Визуально подтвердить результат\n",
    "\n",
    "A - результаты для группы людей получающих препарат А.\n",
    "\n",
    "B - результаты для другой группы людей, получающих препарат B."
   ]
  },
  {
   "cell_type": "markdown",
   "id": "3dcc5c14",
   "metadata": {},
   "source": [
    "2 +2 "
   ]
  },
  {
   "cell_type": "code",
   "execution_count": 1,
   "id": "4ef1c157",
   "metadata": {},
   "outputs": [],
   "source": [
    "import numpy as np\n",
    "import pandas as pd\n",
    "import scipy.stats as stats \n",
    "import matplotlib.pyplot as plt  #Пакет для построения графиков и прочего\n",
    "import seaborn as sns"
   ]
  },
  {
   "cell_type": "code",
   "execution_count": 2,
   "id": "0fec431c",
   "metadata": {},
   "outputs": [],
   "source": [
    "np.random.seed(11)\n",
    "A = stats.norm.rvs(scale=30, loc=11, size=100)\n",
    "B = A + stats.norm.rvs(scale=54, loc=11, size=100)\n",
    "\n",
    "# Ваш код."
   ]
  },
  {
   "cell_type": "code",
   "execution_count": 3,
   "id": "b82618ac",
   "metadata": {},
   "outputs": [],
   "source": [
    "stats.mannwhitneyu?"
   ]
  },
  {
   "cell_type": "code",
   "execution_count": 4,
   "id": "eb0ac4f6",
   "metadata": {},
   "outputs": [
    {
     "name": "stdout",
     "output_type": "stream",
     "text": [
      "Statistics=4343.0, p=0.10869536089322271\n",
      "Различий нет (не отвергаем H0)\n"
     ]
    }
   ],
   "source": [
    "#H0 - Эффект от применения препаратов А и В одинаковый\n",
    "#H1 - Эффект от применения препаратов А и В различается\n",
    "\n",
    "st, p = stats.mannwhitneyu(A,B)  # Используем критерий Манна-Уитни, так как выборки независимы\n",
    "\n",
    "print(f'Statistics={st}, p={p}')\n",
    "\n",
    "alpha = 0.05 \n",
    "if p > alpha:\n",
    "    print('Различий нет (не отвергаем H0)')\n",
    "else:\n",
    "    print('Различия есть (отвергаем H0)')"
   ]
  },
  {
   "cell_type": "code",
   "execution_count": 5,
   "id": "621180ce",
   "metadata": {},
   "outputs": [
    {
     "data": {
      "text/plain": [
       "(array([ 5.,  7., 13., 13., 21., 16., 11.,  8.,  3.,  3.]),\n",
       " array([-99.92486747, -73.18817253, -46.45147758, -19.71478263,\n",
       "          7.02191231,  33.75860726,  60.4953022 ,  87.23199715,\n",
       "        113.9686921 , 140.70538704, 167.44208199]),\n",
       " <BarContainer object of 10 artists>)"
      ]
     },
     "execution_count": 5,
     "metadata": {},
     "output_type": "execute_result"
    },
    {
     "data": {
      "image/png": "[encoded data removed]",
      "text/plain": [
       "<Figure size 432x288 with 1 Axes>"
      ]
     },
     "metadata": {
      "needs_background": "light"
     },
     "output_type": "display_data"
    }
   ],
   "source": [
    "plt.hist(A, alpha=0.5)\n",
    "plt.hist(B, alpha=0.3)"
   ]
  },
  {
   "cell_type": "markdown",
   "id": "916046b7",
   "metadata": {},
   "source": [
    "     Задание № 2 (Обязательно) Вам даны результаты проверки двух препаратов.\n",
    "Требуется:\n",
    "\n",
    "Оценить, есть ли различие в эффекте у этих пациентов?\n",
    "Визуально подтвердить результат\n",
    "А - группа людей без препарата.\n",
    "\n",
    "B - та же группа людей, но получающая препарат                   "
   ]
  },
  {
   "cell_type": "code",
   "execution_count": 6,
   "id": "d797e53f",
   "metadata": {},
   "outputs": [],
   "source": [
    "np.random.seed(11)\n",
    "A = stats.norm.rvs(scale=30, loc=11, size=100)\n",
    "B = A + stats.norm.rvs(scale=54, loc=11, size=100)\n",
    "\n",
    "# Ваш код."
   ]
  },
  {
   "cell_type": "code",
   "execution_count": 7,
   "id": "11e989dc",
   "metadata": {},
   "outputs": [
    {
     "name": "stdout",
     "output_type": "stream",
     "text": [
      "Statistics=1930.0, p=0.04077572901549266\n",
      "Различия есть (отвергаем H0)\n"
     ]
    }
   ],
   "source": [
    "#H0 - Эффект от применения препаратов А и В одинаковый\n",
    "#H1 - Эффект от применения препаратов А и В различается\n",
    "\n",
    "\n",
    "st, p = stats.wilcoxon(A, B) # Выборки зависимы поэтому используем Критерий Вилкоксона\n",
    "print(f'Statistics={st}, p={p}')\n",
    "\n",
    "alpha = 0.05 \n",
    "if p > alpha:\n",
    "    print('Различий нет (не отвергаем H0)')\n",
    "else:\n",
    "    print('Различия есть (отвергаем H0)')"
   ]
  },
  {
   "cell_type": "code",
   "execution_count": 8,
   "id": "9ed02531",
   "metadata": {},
   "outputs": [
    {
     "data": {
      "image/png": "[encoded data removed]",
      "text/plain": [
       "<Figure size 432x288 with 1 Axes>"
      ]
     },
     "metadata": {
      "needs_background": "light"
     },
     "output_type": "display_data"
    }
   ],
   "source": [
    "data = [A, B]\n",
    "fig7, ax7 = plt.subplots()\n",
    "ax7.set_title('Графики \"Ящик с усами для каждого препарата\"')\n",
    "\n",
    "ax7.boxplot(data)\n",
    "\n",
    "plt.show()"
   ]
  },
  {
   "cell_type": "markdown",
   "id": "6f359395",
   "metadata": {},
   "source": [
    "Задание № 3 (Обязательно) Допустим вы решили устроить дачный эксперимент.<u> Берем и поливаем одни огурцы водой, другие огурцы водой с удобнением, третью группу огурцов будем поливать минералкой.</u>\n",
    "<b>Используя дисперсионный анализ, сделайте выводы о распредлениях результатов. Есть ли эффект от удобрения по сравнению с минералкой?</b>\n",
    "Помимо результата статистического теста, продемонстрируйте отличия визуально с помощью boxplot или hist\\\n",
    "water = [1,2,3,4,2,4,2,4,5,2,3,4,2,1,3,4,3,2,5,1]\n",
    "\n",
    "nutri = [1,2,4,6,5,6,7,5,4,5,6,7,4,3,5,5,6,5,4,3,5]\n",
    "\n",
    "mineral =[2,1,1,3,2,4,2,4,5,4,3,2,3,2,3,1,3,4,5,1,4]"
   ]
  },
  {
   "cell_type": "code",
   "execution_count": 9,
   "id": "01c68e85",
   "metadata": {},
   "outputs": [],
   "source": [
    "water = [1,2,3,4,2,4,2,4,5,2,3,4,2,1,3,4,3,2,5,1]\n",
    "nutri = [1,2,4,6,5,6,7,5,4,5,6,7,4,3,5,5,6,5,4,3,5]\n",
    "mineral =[2,1,1,3,2,4,2,4,5,4,3,2,3,2,3,1,3,4,5,1,4]\n",
    "\n",
    "# Ваш код."
   ]
  },
  {
   "cell_type": "code",
   "execution_count": 10,
   "id": "83999ba2",
   "metadata": {},
   "outputs": [
    {
     "name": "stdout",
     "output_type": "stream",
     "text": [
      "12.525963044834192 2.9240047906326866e-05\n",
      "Разные распределения (отвергаем H0)\n"
     ]
    }
   ],
   "source": [
    "#H0 - Эффекта от использования минералки, воды или удобрений нет\n",
    "#H1 - Эффект от  минералки, воды или удобрений возможен\n",
    "from scipy.stats import f_oneway\n",
    "\n",
    "F, p = f_oneway(water, nutri, mineral)  # используем дисперсионный анализ\n",
    "\n",
    "alpha = 0.05  \n",
    "\n",
    "print(F, p)  \n",
    "\n",
    "if p > alpha:\n",
    "    print('Одинаковые распределения (нельзя отклонить H0)')\n",
    "else:\n",
    "    print('Разные распределения (отвергаем H0)')"
   ]
  },
  {
   "cell_type": "markdown",
   "id": "1c502d00",
   "metadata": {},
   "source": [
    "Так же для срванения 3х и более выборрок можем использовать <b>Критерий Краскела-Уоллиса</b>"
   ]
  },
  {
   "cell_type": "code",
   "execution_count": 11,
   "id": "23be7af8",
   "metadata": {},
   "outputs": [
    {
     "name": "stderr",
     "output_type": "stream",
     "text": [
      "C:\\Users\\Ivan\\AppData\\Local\\Temp/ipykernel_3056/1788041943.py:7: DeprecationWarning: In future, it will be an error for 'np.bool_' scalars to be interpreted as an index\n",
      "  ['Разные распределения (отвергаем H0)', 'Одинаковые распределения (нельзя отклонить H0)'][p > 0.05]\n"
     ]
    },
    {
     "data": {
      "text/plain": [
       "'Разные распределения (отвергаем H0)'"
      ]
     },
     "execution_count": 11,
     "metadata": {},
     "output_type": "execute_result"
    }
   ],
   "source": [
    "#H0 - Эффекта от использования минералки, воды или удобрений нет\n",
    "#H1 - Эффект от  минералки, воды или удобрений возможен\n",
    "from scipy.stats import mstats\n",
    "\n",
    "H, pval = mstats.kruskalwallis(water, nutri, mineral)\n",
    "\n",
    "['Разные распределения (отвергаем H0)', 'Одинаковые распределения (нельзя отклонить H0)'][p > 0.05]"
   ]
  },
  {
   "cell_type": "markdown",
   "id": "808c2a0f",
   "metadata": {},
   "source": [
    "<b>Есть ли эффект от удобрения по сравнению с минералкой? </b>"
   ]
  },
  {
   "cell_type": "code",
   "execution_count": 12,
   "id": "89f42212",
   "metadata": {
    "scrolled": true
   },
   "outputs": [
    {
     "name": "stdout",
     "output_type": "stream",
     "text": [
      "Statistics=363.5, p=0.00027427987333505563\n"
     ]
    },
    {
     "name": "stderr",
     "output_type": "stream",
     "text": [
      "C:\\Users\\Ivan\\AppData\\Local\\Temp/ipykernel_3056/602274715.py:9: DeprecationWarning: In future, it will be an error for 'np.bool_' scalars to be interpreted as an index\n",
      "  ['Различия есть (отвергаем H0)', 'Различий нет (не отвергаем H0)'][p > alpha]\n"
     ]
    },
    {
     "data": {
      "text/plain": [
       "'Различия есть (отвергаем H0)'"
      ]
     },
     "execution_count": 12,
     "metadata": {},
     "output_type": "execute_result"
    }
   ],
   "source": [
    "#H0 - Эффекта от использования минералки и удобрений нет\n",
    "#H1 - Эффект от применения минералки и удобрений возможен\n",
    "\n",
    "st, p = stats.mannwhitneyu(nutri, mineral)  # Используем критерий Манна-Уитни, так как выборки независимы\n",
    "\n",
    "print(f'Statistics={st}, p={p}')\n",
    "\n",
    "alpha = 0.05 \n",
    "['Различия есть (отвергаем H0)', 'Различий нет (не отвергаем H0)'][p > alpha]"
   ]
  },
  {
   "cell_type": "markdown",
   "id": "3f2a56c2",
   "metadata": {},
   "source": [
    "Вывод : <u>Эффект от применения минералки и удобрений возможен </u>"
   ]
  },
  {
   "cell_type": "code",
   "execution_count": 13,
   "id": "f5a3c405",
   "metadata": {},
   "outputs": [
    {
     "data": {
      "image/png": "[encoded data removed]",
      "text/plain": [
       "<Figure size 432x288 with 1 Axes>"
      ]
     },
     "metadata": {
      "needs_background": "light"
     },
     "output_type": "display_data"
    }
   ],
   "source": [
    "data = [water, nutri, mineral]\n",
    "fig7, ax7 = plt.subplots()\n",
    "ax7.set_title('Графики \"Ящик с усами для воды, удобрений и минералки\"')\n",
    "\n",
    "ax7.boxplot(data)\n",
    "\n",
    "plt.show()"
   ]
  },
  {
   "cell_type": "code",
   "execution_count": 14,
   "id": "08da05f5",
   "metadata": {},
   "outputs": [
    {
     "data": {
      "text/plain": [
       "(array([4., 0., 5., 0., 0., 5., 0., 5., 0., 2.]),\n",
       " array([1. , 1.4, 1.8, 2.2, 2.6, 3. , 3.4, 3.8, 4.2, 4.6, 5. ]),\n",
       " <BarContainer object of 10 artists>)"
      ]
     },
     "execution_count": 14,
     "metadata": {},
     "output_type": "execute_result"
    },
    {
     "data": {
      "image/png": "[encoded data removed]",
      "text/plain": [
       "<Figure size 432x288 with 1 Axes>"
      ]
     },
     "metadata": {
      "needs_background": "light"
     },
     "output_type": "display_data"
    }
   ],
   "source": [
    "plt.hist(water, bins=10, color='blue')\n",
    "plt.hist(nutri, bins=10, color='green')\n",
    "plt.hist(mineral, bins=10, color='salmon')"
   ]
  },
  {
   "cell_type": "code",
   "execution_count": 15,
   "id": "af274dfc",
   "metadata": {},
   "outputs": [
    {
     "name": "stdout",
     "output_type": "stream",
     "text": [
      "Statistics=213.5, p=0.9360243114411135\n"
     ]
    },
    {
     "name": "stderr",
     "output_type": "stream",
     "text": [
      "C:\\Users\\Ivan\\AppData\\Local\\Temp/ipykernel_3056/3154122774.py:9: DeprecationWarning: In future, it will be an error for 'np.bool_' scalars to be interpreted as an index\n",
      "  ['Различия есть (отвергаем H0)', 'Различий нет (не отвергаем H0)'][p > alpha]\n"
     ]
    },
    {
     "data": {
      "text/plain": [
       "'Различий нет (не отвергаем H0)'"
      ]
     },
     "execution_count": 15,
     "metadata": {},
     "output_type": "execute_result"
    }
   ],
   "source": [
    "#H0 - Эффекта от использования минералки и удобрений нет\n",
    "#H1 - Эффект от применения минералки и удобрений возможен\n",
    "\n",
    "st, p = stats.mannwhitneyu(water, mineral)  # Используем критерий Манна-Уитни, так как выборки независимы\n",
    "\n",
    "print(f'Statistics={st}, p={p}')\n",
    "\n",
    "alpha = 0.05 \n",
    "['Различия есть (отвергаем H0)', 'Различий нет (не отвергаем H0)'][p > alpha]"
   ]
  },
  {
   "cell_type": "markdown",
   "id": "efda03bf",
   "metadata": {},
   "source": [
    "Вывод: при анализе трех способов полива, заментно, что использование удобрений больше всего вносит изменений в результат.\\\n",
    "При этом значимых различий между водой и минералкой замечено не было "
   ]
  },
  {
   "cell_type": "markdown",
   "id": "f86f4cc5",
   "metadata": {},
   "source": [
    "<b><mark>Cookie Cats (Обязательно)</mark><b>"
   ]
  },
  {
   "cell_type": "markdown",
   "id": "6bb0af42",
   "metadata": {},
   "source": [
    "<mark>Cookie Cats - чрезвычайно популярная мобильная игра-головоломка, разработанная Tactile Entertainment. Это классическая игра-головоломка в стиле «соедините три», в которой игрок должен соединять плитки одного цвета, чтобы очистить поле и выиграть уровень. Здесь также есть поющие кошки. По мере прохождения уровней игры игроки время от времени сталкиваются с воротами, которые заставляют их ждать нетривиальное количество времени или совершать покупки в приложении, чтобы продолжить. Помимо стимулирования покупок в приложении, эти ворота служат важной цели - дать игрокам вынужденный перерыв в игре, что, как мы надеемся, приведет к увеличению и продлению удовольствия от игры.</mark>"
   ]
  },
  {
   "cell_type": "markdown",
   "id": "80f8b501",
   "metadata": {},
   "source": [
    "<b>Но где ставить ворота?</b> Первоначально первые ворота были размещены на уровне 30. В этом проекте вам предлагается проанализировать AB-тест, в котором создатели переместили первые ворота в Cookie Cats <u>с 30 уровня на уровень 40.</u> В частности, вам надо рассмотрим влияние A/B теста на удержание игроков."
   ]
  },
  {
   "cell_type": "code",
   "execution_count": 16,
   "id": "d8c0b70f",
   "metadata": {},
   "outputs": [
    {
     "name": "stderr",
     "output_type": "stream",
     "text": [
      "C:\\Users\\Ivan\\anaconda3\\lib\\site-packages\\IPython\\core\\interactiveshell.py:3444: FutureWarning: The error_bad_lines argument has been deprecated and will be removed in a future version.\n",
      "\n",
      "\n",
      "  exec(code_obj, self.user_global_ns, self.user_ns)\n"
     ]
    },
    {
     "data": {
      "text/html": [
       "<div>\n",
       "<style scoped>\n",
       "    .dataframe tbody tr th:only-of-type {\n",
       "        vertical-align: middle;\n",
       "    }\n",
       "\n",
       "    .dataframe tbody tr th {\n",
       "        vertical-align: top;\n",
       "    }\n",
       "\n",
       "    .dataframe thead th {\n",
       "        text-align: right;\n",
       "    }\n",
       "</style>\n",
       "<table border=\"1\" class=\"dataframe\">\n",
       "  <thead>\n",
       "    <tr style=\"text-align: right;\">\n",
       "      <th></th>\n",
       "      <th>userid</th>\n",
       "      <th>version</th>\n",
       "      <th>sum_gamerounds</th>\n",
       "      <th>retention_1</th>\n",
       "      <th>retention_7</th>\n",
       "    </tr>\n",
       "  </thead>\n",
       "  <tbody>\n",
       "    <tr>\n",
       "      <th>0</th>\n",
       "      <td>116</td>\n",
       "      <td>gate_30</td>\n",
       "      <td>3</td>\n",
       "      <td>False</td>\n",
       "      <td>False</td>\n",
       "    </tr>\n",
       "    <tr>\n",
       "      <th>1</th>\n",
       "      <td>337</td>\n",
       "      <td>gate_30</td>\n",
       "      <td>38</td>\n",
       "      <td>True</td>\n",
       "      <td>False</td>\n",
       "    </tr>\n",
       "    <tr>\n",
       "      <th>2</th>\n",
       "      <td>377</td>\n",
       "      <td>gate_40</td>\n",
       "      <td>165</td>\n",
       "      <td>True</td>\n",
       "      <td>False</td>\n",
       "    </tr>\n",
       "    <tr>\n",
       "      <th>3</th>\n",
       "      <td>483</td>\n",
       "      <td>gate_40</td>\n",
       "      <td>1</td>\n",
       "      <td>False</td>\n",
       "      <td>False</td>\n",
       "    </tr>\n",
       "    <tr>\n",
       "      <th>4</th>\n",
       "      <td>488</td>\n",
       "      <td>gate_40</td>\n",
       "      <td>179</td>\n",
       "      <td>True</td>\n",
       "      <td>True</td>\n",
       "    </tr>\n",
       "  </tbody>\n",
       "</table>\n",
       "</div>"
      ],
      "text/plain": [
       "   userid  version  sum_gamerounds  retention_1  retention_7\n",
       "0     116  gate_30               3        False        False\n",
       "1     337  gate_30              38         True        False\n",
       "2     377  gate_40             165         True        False\n",
       "3     483  gate_40               1        False        False\n",
       "4     488  gate_40             179         True         True"
      ]
     },
     "execution_count": 16,
     "metadata": {},
     "output_type": "execute_result"
    }
   ],
   "source": [
    "cookie_cats = 'https://raw.githubusercontent.com/a-milenkin/datasets_for_t-tests/main/cookie_cats.csv'\n",
    "\n",
    "data = pd.read_csv(cookie_cats, error_bad_lines=False)  # Откроем датасет\n",
    "data.head()"
   ]
  },
  {
   "cell_type": "markdown",
   "id": "cd2a060f",
   "metadata": {},
   "source": [
    "Данные получены от 90 189 игроков, которые установили игру во время проведения AB-теста. Переменные:\n",
    "\n",
    "<b>userid</b> - уникальный номер, идентифицирующий каждого игрока.\n",
    "\n",
    "<b>version</b> - был ли игрок помещен в контрольную группу (gate_30 - ворота на уровне 30) или в тестовую группу (gate_40 - ворота на уровне 40).\n",
    "\n",
    "<b>sum_gamerounds</b> - количество игровых раундов, сыгранных игроком в течение первой недели после установки\n",
    "\n",
    "<b>retention_1</b> - пользователь вернулся и поиграл через 1 день после установки?\n",
    "\n",
    "<b>retention_7</b> - пользователь вернулся и играл через 7 дней после установки?\n",
    "\n",
    "Когда игрок устанавливал игру, ему случайным образом назначали gate_30 или gate_40."
   ]
  },
  {
   "cell_type": "markdown",
   "id": "fdbb748c",
   "metadata": {},
   "source": [
    "Задание: провести анализ данных и сделать выводы о лучшем месте для установки ворот.\n",
    "Замечание: приведенных вспомогательных фрагментов кода не хватает для ответа на вопрос. Делать выводы необходимо опираясь на статистические тесты, разобранные в лекции. Большим плюсом будет построение визуализиции для подтверждения ваших выводом. Рекомендую использовать seaborn c его sns.boxplot/sns.carplot, sns.barplot, но можно обойтись и обычном matplotlib"
   ]
  },
  {
   "cell_type": "code",
   "execution_count": 17,
   "id": "9f920449",
   "metadata": {},
   "outputs": [
    {
     "data": {
      "text/html": [
       "<div>\n",
       "<style scoped>\n",
       "    .dataframe tbody tr th:only-of-type {\n",
       "        vertical-align: middle;\n",
       "    }\n",
       "\n",
       "    .dataframe tbody tr th {\n",
       "        vertical-align: top;\n",
       "    }\n",
       "\n",
       "    .dataframe thead th {\n",
       "        text-align: right;\n",
       "    }\n",
       "</style>\n",
       "<table border=\"1\" class=\"dataframe\">\n",
       "  <thead>\n",
       "    <tr style=\"text-align: right;\">\n",
       "      <th></th>\n",
       "      <th>userid</th>\n",
       "      <th>sum_gamerounds</th>\n",
       "      <th>retention_1</th>\n",
       "      <th>retention_7</th>\n",
       "    </tr>\n",
       "    <tr>\n",
       "      <th>version</th>\n",
       "      <th></th>\n",
       "      <th></th>\n",
       "      <th></th>\n",
       "      <th></th>\n",
       "    </tr>\n",
       "  </thead>\n",
       "  <tbody>\n",
       "    <tr>\n",
       "      <th>gate_30</th>\n",
       "      <td>44700</td>\n",
       "      <td>44700</td>\n",
       "      <td>44700</td>\n",
       "      <td>44700</td>\n",
       "    </tr>\n",
       "    <tr>\n",
       "      <th>gate_40</th>\n",
       "      <td>45489</td>\n",
       "      <td>45489</td>\n",
       "      <td>45489</td>\n",
       "      <td>45489</td>\n",
       "    </tr>\n",
       "  </tbody>\n",
       "</table>\n",
       "</div>"
      ],
      "text/plain": [
       "         userid  sum_gamerounds  retention_1  retention_7\n",
       "version                                                  \n",
       "gate_30   44700           44700        44700        44700\n",
       "gate_40   45489           45489        45489        45489"
      ]
     },
     "execution_count": 17,
     "metadata": {},
     "output_type": "execute_result"
    }
   ],
   "source": [
    "#Сгрупируем результаты теста по версиям игры.\n",
    "data.groupby('version').count()"
   ]
  },
  {
   "cell_type": "markdown",
   "id": "17e1fe63",
   "metadata": {},
   "source": [
    "В контрольную группу было помещено 44700 игроков, в тестовую - 45489,\n",
    "обе группы приблизительно равны - поправка на различие групп (Критерий Уэлча) не требуется"
   ]
  },
  {
   "cell_type": "code",
   "execution_count": 18,
   "id": "4fd293ca",
   "metadata": {},
   "outputs": [
    {
     "name": "stdout",
     "output_type": "stream",
     "text": [
      "Выши выводы: большинство игроков в течение первой недели установки сыграли в небольшое кол-во раундов\n"
     ]
    },
    {
     "data": {
      "image/png": "[encoded data removed]",
      "text/plain": [
       "<Figure size 432x288 with 1 Axes>"
      ]
     },
     "metadata": {
      "needs_background": "light"
     },
     "output_type": "display_data"
    }
   ],
   "source": [
    "# Подсчет количества игроков для каждого количества раундов\n",
    "plot_df = data.groupby('sum_gamerounds')['userid'].count()\n",
    "plot_df.hist(bins=50) \n",
    "print('Выши выводы: большинство игроков в течение первой недели установки сыграли в небольшое кол-во раундов')\n"
   ]
  },
  {
   "cell_type": "code",
   "execution_count": 32,
   "id": "8b447751",
   "metadata": {
    "scrolled": true
   },
   "outputs": [
    {
     "data": {
      "text/plain": [
       "Text(0.5, 0, '№ Игрового раунда')"
      ]
     },
     "execution_count": 32,
     "metadata": {},
     "output_type": "execute_result"
    },
    {
     "data": {
      "image/png": "[encoded data removed]",
      "text/plain": [
       "<Figure size 720x432 with 1 Axes>"
      ]
     },
     "metadata": {
      "needs_background": "light"
     },
     "output_type": "display_data"
    }
   ],
   "source": [
    "# Построим график распределения игроков, сыгравших от 0 до 100 игровых раундов в течение своей первой недели игры.\n",
    "%matplotlib inline\n",
    "\n",
    "ax = plot_df[:100].plot(figsize=(10,6))\n",
    "ax.set_title(\"Количество игроков, которые играли 0-100 раундов игры в течении первой недели\")\n",
    "ax.set_ylabel(\"Число игроков\")\n",
    "ax.set_xlabel('№ Игрового раунда')"
   ]
  },
  {
   "cell_type": "code",
   "execution_count": null,
   "id": "36f8fae2",
   "metadata": {},
   "outputs": [],
   "source": [
    "boot_7d.head()"
   ]
  },
  {
   "cell_type": "markdown",
   "id": "589b3158",
   "metadata": {},
   "source": [
    "boot_7d.head()"
   ]
  },
  {
   "cell_type": "code",
   "execution_count": 19,
   "id": "b2d75a13",
   "metadata": {},
   "outputs": [
    {
     "data": {
      "image/png": "[encoded data removed]",
      "text/plain": [
       "<Figure size 1080x720 with 1 Axes>"
      ]
     },
     "metadata": {
      "needs_background": "light"
     },
     "output_type": "display_data"
    }
   ],
   "source": [
    "v_30 = data.loc[data.version == 'gate_30']\n",
    "v_40 = data.loc[data.version == 'gate_40']\n",
    "v_30 = v_30.drop(v_30.loc[v_30.sum_gamerounds > 200].index)\n",
    "v_40 = v_40.drop(v_40.loc[v_40.sum_gamerounds > 200].index)\n",
    "\n",
    "\n",
    "bins = 200\n",
    "plt.figure(figsize=(15, 10))\n",
    "plt.hist(v_30['sum_gamerounds'], bins=bins, alpha=1, edgecolor='black', label='gate 30')\n",
    "plt.hist(v_40['sum_gamerounds'], bins=bins, alpha=0.7, label='gate 40')\n",
    "plt.legend(loc='upper right', bbox_to_anchor=(0.45, 0.35))\n",
    "plt.show()"
   ]
  },
  {
   "cell_type": "code",
   "execution_count": 31,
   "id": "6cf34204",
   "metadata": {
    "scrolled": false
   },
   "outputs": [
    {
     "data": {
      "text/plain": [
       "<AxesSubplot:ylabel='Density'>"
      ]
     },
     "execution_count": 31,
     "metadata": {},
     "output_type": "execute_result"
    },
    {
     "data": {
      "image/png": "[encoded data removed]",
      "text/plain": [
       "<Figure size 1080x432 with 1 Axes>"
      ]
     },
     "metadata": {
      "needs_background": "light"
     },
     "output_type": "display_data"
    }
   ],
   "source": [
    "# Creating an list with bootstrapped means for each AB-group\n",
    "boot_1d = []\n",
    "for i in range(1000):\n",
    "    boot_mean = data.sample(frac = 1, replace = True).groupby('version')['retention_7'].mean()  #retention_1\n",
    "    boot_1d.append(boot_mean)\n",
    "\n",
    "# Преобразование списка в DataFrame\n",
    "boot_1d = pd.DataFrame(boot_1d)\n",
    "\n",
    "# A Kernel Density Estimate plot of the bootstrap distributions\n",
    "boot_1d.plot(kind='density')"
   ]
  },
  {
   "cell_type": "markdown",
   "id": "6b2ea0b8",
   "metadata": {},
   "source": [
    "Ваши выводы: Из графиков видно, что для контрольной выборки кол-во оставшихся игроков больше (пик приблизительно на 0.183),\n",
    "чем для тестовой (пик приблизительно на 0.19) Напрашивается, что установка ограничения на 30-м уровне лучше, чем на 40. \n",
    "Проверим наше предположение, что использование ограничения на 30-м уровне предпочтительнее."
   ]
  },
  {
   "cell_type": "code",
   "execution_count": 41,
   "id": "e6ef90b2",
   "metadata": {},
   "outputs": [],
   "source": [
    "# Разбиваем датасет на две выборки: тестовую и контрольную\n",
    "level_30 = data[['retention_7']].loc[data.version == 'gate_30']\n",
    "level_40 = data[['retention_7']].loc[data.version == 'gate_40']"
   ]
  },
  {
   "cell_type": "code",
   "execution_count": 42,
   "id": "6c338a12",
   "metadata": {},
   "outputs": [
    {
     "data": {
      "text/plain": [
       "F_onewayResult(statistic=array([10.01405708]), pvalue=array([0.00155402]))"
      ]
     },
     "execution_count": 42,
     "metadata": {},
     "output_type": "execute_result"
    }
   ],
   "source": [
    "#Используем дисперсионный анализ\n",
    "from scipy.stats import f_oneway\n",
    "f_oneway(level_30, level_40)"
   ]
  },
  {
   "cell_type": "markdown",
   "id": "0b06cb67",
   "metadata": {},
   "source": [
    "Вывод: Мы отвергаем нулевую гипотезу о равенстве средних, так как p_value меньше 0.05 Так как статистика положительна (10.01405708), то установка ограничений на уровне 30 статистически обоснована."
   ]
  }
 ],
 "metadata": {
  "kernelspec": {
   "display_name": "Python 3 (ipykernel)",
   "language": "python",
   "name": "python3"
  },
  "language_info": {
   "codemirror_mode": {
    "name": "ipython",
    "version": 3
   },
   "file_extension": ".py",
   "mimetype": "text/x-python",
   "name": "python",
   "nbconvert_exporter": "python",
   "pygments_lexer": "ipython3",
   "version": "3.9.7"
  }
 },
 "nbformat": 4,
 "nbformat_minor": 5
}
