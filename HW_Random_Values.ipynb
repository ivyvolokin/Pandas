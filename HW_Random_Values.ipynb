{
 "cells": [
  {
   "cell_type": "markdown",
   "metadata": {},
   "source": [
    "Домашнее задание к лекции «Случайные события. Случайные величины»\n",
    "\n",
    "Текст задания см. на скриншоте http://prntscr.com/uh35yg\n",
    "\n",
    "Смоделировать игру против лотерейного автомата типа “777”. Игрок платит 1 руб., после чего выпадает случайное целое число, равномерно распределенное от 0 до 999. При некоторых значениях числа игрок получает выигрыш.\n",
    "\n",
    "777: 200 руб.\n",
    "999: 100 руб.\n",
    "555: 50 руб.\n",
    "333: 15 руб.\n",
    "111: 10 руб.\n",
    "*77: 5 руб.\n",
    "**7: 3 руб.\n",
    "*00: 2 руб.\n",
    "**0: 1 руб.\n",
    "\n",
    "Вопросы:\n",
    "\n",
    "Выгодна ли игра игроку?\n",
    "Сколько в среднем приобретает или теряет игрок за одну игру?\n",
    "\n",
    "**Дополнительное задание повышенной сложности. **\n",
    "\n",
    "Теоретически рассчитать средний выигрыш (проигрыш) и сравнить с результатами моделирования\n",
    "\n",
    "– любая цифра"
   ]
  },
  {
   "cell_type": "code",
   "execution_count": 129,
   "metadata": {},
   "outputs": [],
   "source": [
    "import random\n",
    "\n",
    "def avtomat():\n",
    "    \n",
    "    def choice():\n",
    "        otvet = str(random.randint(0, 1000))\n",
    "        if len(otvet) == 0:\n",
    "            return '000'\n",
    "        elif len(otvet) == 1:\n",
    "            return '00'+ otvet\n",
    "        elif len(otvet) == 2:\n",
    "            return '0'+ otvet\n",
    "        else:\n",
    "            return otvet\n",
    "       \n",
    "        \n",
    "    def res():\n",
    "        n = int(input('кол-во монет '))\n",
    "        total = 0\n",
    "        suc = 0\n",
    "        for _ in range(n):\n",
    "            r = choice()\n",
    "            if r == '777':\n",
    "                total += 200\n",
    "                suc += 1\n",
    "                #print(f'{r}: 200 руб.')\n",
    "            elif r == '999':\n",
    "                total += 100\n",
    "                suc += 1\n",
    "                #print(f'{r}: 100 руб.')          \n",
    "            elif r == '555':\n",
    "                total += 50\n",
    "                suc += 1\n",
    "                #print(f'{r}: 50 руб.')\n",
    "            elif r == '333':\n",
    "                total += 15\n",
    "                suc += 1\n",
    "                #print(f'{r}: 15 руб.')\n",
    "            elif r == '111':\n",
    "                total += 10\n",
    "                #print(f'{r}: 10 руб.')          \n",
    "            elif r[1:] == '77':\n",
    "                total += 5\n",
    "                suc += 1\n",
    "               #print(f'{r}: 5 руб.')\n",
    "            elif r[-1] == '7':\n",
    "                total += 3\n",
    "                suc += 1\n",
    "                #print(f'{r}: 3 руб.')\n",
    "            elif r[1:] == '00':\n",
    "                total += 2\n",
    "                suc += 1\n",
    "                #print(f'{r}: 2 руб.')\n",
    "            elif r[-1] == '0':\n",
    "                total += 1\n",
    "                suc += 1\n",
    "                #print(f'{r}: 1 руб.')\n",
    "            else:\n",
    "                continue\n",
    "                #print(f'{r}: 0 руб.')\n",
    "        return total, suc       \n",
    "    return res()    \n",
    "             "
   ]
  },
  {
   "cell_type": "code",
   "execution_count": 133,
   "metadata": {},
   "outputs": [
    {
     "name": "stdout",
     "output_type": "stream",
     "text": [
      "кол-во монет 10000003\n"
     ]
    },
    {
     "data": {
      "text/plain": [
       "(7999134, 2037692)"
      ]
     },
     "execution_count": 133,
     "metadata": {},
     "output_type": "execute_result"
    }
   ],
   "source": [
    "avtomat() #---вызываем фунцию\n",
    "\n",
    "\n"
   ]
  },
  {
   "cell_type": "code",
   "execution_count": 136,
   "metadata": {},
   "outputs": [
    {
     "data": {
      "text/plain": [
       "0.799913160026052"
      ]
     },
     "execution_count": 136,
     "metadata": {},
     "output_type": "execute_result"
    }
   ],
   "source": [
    "7999134/10000003 #---отношение выйгранных денег к первоначальной сумме"
   ]
  },
  {
   "cell_type": "code",
   "execution_count": 137,
   "metadata": {},
   "outputs": [
    {
     "data": {
      "text/plain": [
       "0.20376913886925835"
      ]
     },
     "execution_count": 137,
     "metadata": {},
     "output_type": "execute_result"
    }
   ],
   "source": [
    "2037692/10000003 #---отношение удачных попыток к общему количеству попыток"
   ]
  },
  {
   "cell_type": "markdown",
   "metadata": {},
   "source": [
    "Потратив миллион мы смогли выйграть около 800 тыс., то есть в среднем с каждого рубля мы выигрываем 80коп."
   ]
  },
  {
   "cell_type": "markdown",
   "metadata": {},
   "source": [
    "777: 200 руб. --- p = 0,001 (1 комбинация из 1000)\n",
    "999: 100 руб. --- p = 0,001 (1 комбинация из 1000)\n",
    "555: 50 руб.  --- p = 0,001 (1 комбинация из 1000)\n",
    "333: 15 руб.  --- p = 0,001 (1 комбинация из 1000)\n",
    "111: 10 руб.  --- p = 0,001 (1 комбинация из 1000)\n",
    "*77: 5 руб.   --- p = 0,009 (9 комбинаций из 1000 без учета 777)\n",
    "**7: 3 руб.   --- p = 0,09  (90 комбинаций из 1000 без учета 777 и *77)\n",
    "*00: 2 руб.   --- p = 0,01  (10 комбинаций из 1000)\n",
    "**0: 1 руб.   --- p = 0,09  (90 комбинаций из 1000 без учета *00)\n",
    "\n",
    "В итоге вероятность не потерять деньги(1 руб на игру) и попытаться заработать равна всех непроигрышных комбинаций = р=0,204\n",
    "(что совпадает с примером из практики 0.2037)\n",
    "Чуть больше 20% случаев, то есть в 4 играх из 5 игрок теряет деньги.\n"
   ]
  },
  {
   "cell_type": "markdown",
   "metadata": {},
   "source": [
    "Теоретический выйгрыш:\n",
    "\n",
    "Р = 200р * 0,001 + 100р * 0,001 + 50р * 0,001 + 15р * 0,001 + 10р * 0,001 + 5р * 0,009 + 3р * 0,009 + 2р * 0,01 + 1р * 0,09\n",
    "Р = 0,8  что совпадает с практически расичтанным показателем 0.799"
   ]
  }
 ],
 "metadata": {
  "kernelspec": {
   "display_name": "Python 3",
   "language": "python",
   "name": "python3"
  },
  "language_info": {
   "codemirror_mode": {
    "name": "ipython",
    "version": 3
   },
   "file_extension": ".py",
   "mimetype": "text/x-python",
   "name": "python",
   "nbconvert_exporter": "python",
   "pygments_lexer": "ipython3",
   "version": "3.8.3"
  }
 },
 "nbformat": 4,
 "nbformat_minor": 4
}
